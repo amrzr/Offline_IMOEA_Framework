{
 "cells": [
  {
   "cell_type": "code",
   "execution_count": 1,
   "metadata": {},
   "outputs": [],
   "source": [
    "import sys\n",
    "sys.path.insert(1, '/home/amrzr/Work/Codes/Offline_IMOEA_Framework/')\n",
    "from desdeo_problem.testproblems.TestProblems import test_problem_builder\n",
    "from desdeo_emo.EAs.RVEA import RVEA\n",
    "from desdeo_emo.EAs.OfflineRVEA import ProbRVEAv3\n",
    "import matplotlib.pyplot as plt"
   ]
  },
  {
   "cell_type": "code",
   "execution_count": 2,
   "metadata": {},
   "outputs": [],
   "source": [
    "dtlz2 = test_problem_builder(\"DTLZ2\", n_of_objectives= 2, n_of_variables=5)\n",
    "evolver = RVEA(dtlz2, n_gen_per_iter=50, n_iterations=10)\n",
    "while evolver.continue_evolution():\n",
    "    evolver.iterate()"
   ]
  },
  {
   "cell_type": "code",
   "execution_count": 3,
   "metadata": {},
   "outputs": [],
   "source": [
    "objs= evolver.population.objectives"
   ]
  },
  {
   "cell_type": "code",
   "execution_count": 4,
   "metadata": {},
   "outputs": [
    {
     "data": {
      "image/png": "[encoded data removed]",
      "text/plain": [
       "<Figure size 432x288 with 1 Axes>"
      ]
     },
     "metadata": {
      "needs_background": "light"
     },
     "output_type": "display_data"
    }
   ],
   "source": [
    "plt.scatter(objs[:,0], objs[:,1])\n",
    "plt.show()"
   ]
  }
 ],
 "metadata": {
  "interpreter": {
   "hash": "028c7f87acfbdb178a7022a58eb44a108388aec1adf9f33da0988a40eb97b9af"
  },
  "kernelspec": {
   "display_name": "Python 3.8.10 ('Offline_IMOEA_Framework')",
   "language": "python",
   "name": "python3"
  },
  "language_info": {
   "codemirror_mode": {
    "name": "ipython",
    "version": 3
   },
   "file_extension": ".py",
   "mimetype": "text/x-python",
   "name": "python",
   "nbconvert_exporter": "python",
   "pygments_lexer": "ipython3",
   "version": "3.8.10"
  },
  "orig_nbformat": 4
 },
 "nbformat": 4,
 "nbformat_minor": 2
}
