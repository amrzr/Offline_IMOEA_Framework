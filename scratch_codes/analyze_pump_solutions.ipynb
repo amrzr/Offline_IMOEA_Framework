{
 "cells": [
  {
   "cell_type": "code",
   "execution_count": 2,
   "metadata": {},
   "outputs": [],
   "source": [
    "import sys\n",
    "sys.path.insert(1, '/home/amrzr/Work/Codes/Offline_IMOEA_Framework/')\n",
    "import main_project_files.plot3d_confidence_v2 as plt_int3\n",
    "import pandas as pd\n",
    "import numpy as np\n",
    "from plotly.offline.offline import plot\n",
    "import plotly_express as ex"
   ]
  },
  {
   "cell_type": "code",
   "execution_count": 62,
   "metadata": {},
   "outputs": [],
   "source": [
    "data_folder = '/home/amrzr/Work/Codes/data/pump_data/data_compare'\n",
    "data_file_1 = data_folder+'/140DOE_prob_2_old.csv'\n",
    "data_file_2 = data_folder+'/140DOE_prob_2_new_run2.csv'\n",
    "data_file_3 = data_folder+'/140DOE_prob_2_new_run4.csv'\n",
    "df_1 = pd.read_csv(data_file_1)\n",
    "df_2 = pd.read_csv(data_file_2)\n",
    "df_3 = pd.read_csv(data_file_3)"
   ]
  },
  {
   "cell_type": "code",
   "execution_count": 63,
   "metadata": {},
   "outputs": [],
   "source": [
    "low=np.hstack((np.ones(22)*0,np.ones(3)*-100))\n",
    "high=np.hstack((np.ones(22)*1,np.ones(3)*-80))\n",
    "low_series = pd.Series(low, index = df_1.columns)\n",
    "high_series = pd.Series(high, index = df_1.columns)\n",
    "df_1=df_1.append(low_series, ignore_index = True)\n",
    "df_1=df_1.append(high_series, ignore_index = True)\n",
    "df_2=df_2.append(low_series, ignore_index = True)\n",
    "df_2=df_2.append(high_series, ignore_index = True)\n",
    "df_3=df_3.append(low_series, ignore_index = True)\n",
    "df_3=df_3.append(high_series, ignore_index = True)\n",
    "df_1_dv = df_1.iloc[:,0:22]\n",
    "df_1_objs = df_1.iloc[:,22:]\n",
    "df_2_dv = df_2.iloc[:,0:22]\n",
    "df_2_objs = df_2.iloc[:,22:]\n",
    "df_3_dv = df_3.iloc[:,0:22]\n",
    "df_3_objs = df_3.iloc[:,22:]"
   ]
  },
  {
   "cell_type": "code",
   "execution_count": 64,
   "metadata": {},
   "outputs": [
    {
     "data": {
      "text/plain": [
       "'/home/amrzr/Work/Codes/data/pump_data/data_compare/OBJ_new2.html'"
      ]
     },
     "execution_count": 64,
     "metadata": {},
     "output_type": "execute_result"
    }
   ],
   "source": [
    "fig = ex.parallel_coordinates(df_1_dv)\n",
    "plot(fig, filename= data_folder  + \"/DV_old.html\")\n",
    "fig = ex.parallel_coordinates(df_1_objs)\n",
    "plot(fig, filename= data_folder  + \"/OBJ_old.html\")\n",
    "fig = ex.parallel_coordinates(df_2_dv)\n",
    "plot(fig, filename= data_folder  + \"/DV_new.html\")\n",
    "fig = ex.parallel_coordinates(df_2_objs)\n",
    "plot(fig, filename= data_folder  + \"/OBJ_new.html\")\n",
    "fig = ex.parallel_coordinates(df_3_dv)\n",
    "plot(fig, filename= data_folder  + \"/DV_new2.html\")\n",
    "fig = ex.parallel_coordinates(df_3_objs)\n",
    "plot(fig, filename= data_folder  + \"/OBJ_new2.html\")"
   ]
  }
 ],
 "metadata": {
  "interpreter": {
   "hash": "028c7f87acfbdb178a7022a58eb44a108388aec1adf9f33da0988a40eb97b9af"
  },
  "kernelspec": {
   "display_name": "Python 3.8.10 64-bit ('Offline_IMOEA_Framework': venv)",
   "language": "python",
   "name": "python3"
  },
  "language_info": {
   "codemirror_mode": {
    "name": "ipython",
    "version": 3
   },
   "file_extension": ".py",
   "mimetype": "text/x-python",
   "name": "python",
   "nbconvert_exporter": "python",
   "pygments_lexer": "ipython3",
   "version": "3.8.10"
  },
  "orig_nbformat": 4
 },
 "nbformat": 4,
 "nbformat_minor": 2
}
