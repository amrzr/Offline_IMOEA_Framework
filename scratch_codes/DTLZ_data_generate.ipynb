{
 "cells": [
  {
   "cell_type": "code",
   "execution_count": 7,
   "metadata": {},
   "outputs": [],
   "source": [
    "import matplotlib.pyplot as plt\n",
    "import numpy as np\n",
    "import pandas as pd\n",
    "import sys\n",
    "sys.path.insert(1, '/home/amrzr/Work/Codes/Offline_IMOEA_Framework/')\n",
    "from desdeo_problem.testproblems.TestProblems import test_problem_builder\n",
    "from scipy.stats import qmc\n",
    "\n",
    "import copy\n",
    "import pickle\n",
    "import os"
   ]
  },
  {
   "cell_type": "code",
   "execution_count": 8,
   "metadata": {},
   "outputs": [],
   "source": [
    "# problem parameters\n",
    "problem_name = 'DTLZ2'\n",
    "nobjs = 2\n",
    "nvars = 5\n",
    "nruns = 35\n",
    "N = 250\n",
    "bound_valL=0.2\n",
    "bound_valU=0.9\n",
    "\n",
    "boundoldL= 0 # for DTLZ\n",
    "boundoldU = 1  \n",
    "ndim = nvars # nvars...for box constraints, 1,2...for dimensionwise constraints\n",
    "\n",
    "# end of parameters"
   ]
  },
  {
   "cell_type": "code",
   "execution_count": 9,
   "metadata": {},
   "outputs": [],
   "source": [
    "data_folder = '/home/amrzr/Work/Codes/data'\n",
    "path = data_folder+'/failed_samples/'\n",
    "\n",
    "problem_spec ='tests_' + problem_name +'_'+ str(N) + '_' + str(nobjs) + '_' + \\\n",
    "    str(nvars) +  '_b'+str(ndim) +'_' + str(bound_valL).replace('.','') + \\\n",
    "        str(bound_valU).replace('.','')\n",
    " \n",
    "boundvecL = bound_valL* np.ones(nvars)\n",
    "boundvecU = bound_valU* np.ones(nvars)\n",
    "boundvecL = boundoldL* np.ones(nvars)\n",
    "boundvecU = boundoldU* np.ones(nvars)\n",
    "boundvecL[:ndim]=np.ones(ndim)*bound_valL\n",
    "boundvecU[:ndim]=np.ones(ndim)*bound_valU\n",
    "boundL = np.tile(boundvecL,(N,1))\n",
    "boundU = np.tile(boundvecU,(N,1))\n",
    "\n"
   ]
  },
  {
   "cell_type": "code",
   "execution_count": 10,
   "metadata": {},
   "outputs": [
    {
     "name": "stdout",
     "output_type": "stream",
     "text": [
      "41\n",
      "37\n",
      "43\n",
      "37\n",
      "50\n",
      "41\n",
      "43\n",
      "36\n",
      "47\n",
      "35\n",
      "40\n",
      "42\n",
      "43\n",
      "41\n",
      "44\n",
      "38\n",
      "41\n",
      "54\n",
      "37\n",
      "44\n",
      "43\n",
      "30\n",
      "48\n",
      "35\n",
      "42\n",
      "38\n",
      "42\n",
      "39\n",
      "43\n",
      "43\n",
      "41\n",
      "49\n",
      "40\n",
      "53\n",
      "39\n"
     ]
    }
   ],
   "source": [
    "for run in range(nruns):\n",
    "    sampler = qmc.LatinHypercube(d=nvars)\n",
    "    data = sampler.random(n=N)*(boundoldU-(boundoldL)) + (boundoldL)\n",
    "    # print(data)\n",
    "\n",
    "    testproblem = test_problem_builder(problem_name, n_of_objectives= nobjs, n_of_variables=nvars)\n",
    "    obj_val = testproblem.evaluate(data)\n",
    "\n",
    "\n",
    "    failed_loc = np.where(np.all(data >= boundL, axis=1) & np.all(data <= boundU, axis=1))\n",
    "    stat_success = np.ones((N,1))\n",
    "    stat_success[failed_loc,0]=0\n",
    "\n",
    "    data_failed=data[failed_loc[0],:]\n",
    "    #ax.scatter(data_failed[:,0],data_failed[:,1],data_failed[:,2], c='black', marker=',')\n",
    "    obj_vals = obj_val[0]\n",
    "    obj_success = obj_vals[np.where(stat_success==1)[0],:]\n",
    "\n",
    "    np.size(failed_loc)\n",
    "    print(np.size(failed_loc))\n",
    "\n",
    "\n",
    "    data_class = pd.DataFrame(np.hstack((data, stat_success)))\n",
    "    data_success = pd.DataFrame(np.hstack((data[np.where(stat_success==1)[0],:],obj_success)))\n",
    "    data_all = pd.DataFrame(np.hstack((np.hstack((data, obj_vals)),stat_success)))\n",
    "\n",
    "\n",
    "\n",
    "    data_class.to_csv(path + problem_spec + '_'+ str(run)+ '_data_class.csv',index=False)\n",
    "    data_success.to_csv(path + problem_spec + '_'+ str(run) + '_data_success.csv',index=False)\n",
    "    data_all.to_csv(path + problem_spec  + '_'+ str(run) + '_data_all.csv',index=False)"
   ]
  }
 ],
 "metadata": {
  "interpreter": {
   "hash": "028c7f87acfbdb178a7022a58eb44a108388aec1adf9f33da0988a40eb97b9af"
  },
  "kernelspec": {
   "display_name": "Python 3.8.10 64-bit ('Offline_IMOEA_Framework': venv)",
   "language": "python",
   "name": "python3"
  },
  "language_info": {
   "codemirror_mode": {
    "name": "ipython",
    "version": 3
   },
   "file_extension": ".py",
   "mimetype": "text/x-python",
   "name": "python",
   "nbconvert_exporter": "python",
   "pygments_lexer": "ipython3",
   "version": "3.8.10"
  },
  "orig_nbformat": 4
 },
 "nbformat": 4,
 "nbformat_minor": 2
}
