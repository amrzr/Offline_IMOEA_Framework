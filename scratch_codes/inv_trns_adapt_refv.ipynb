{
 "cells": [
  {
   "cell_type": "code",
   "execution_count": 1,
   "metadata": {},
   "outputs": [],
   "source": [
    "import numpy as np\n",
    "from   scipy.stats import (multivariate_normal as mvn,\n",
    "                           norm)\n",
    "from   scipy.stats._multivariate import _squeeze_output\n",
    "\n",
    "\n",
    "class multivariate_skewnorm:\n",
    "    \n",
    "    def __init__(self, shape, cov=None):\n",
    "        self.dim   = len(shape)\n",
    "        self.shape = np.asarray(shape)\n",
    "        self.mean  = np.zeros(self.dim)\n",
    "        self.cov   = np.eye(self.dim) if cov is None else np.asarray(cov)\n",
    "\n",
    "    def pdf(self, x):\n",
    "        return np.exp(self.logpdf(x))\n",
    "        \n",
    "    def logpdf(self, x):\n",
    "        x    = mvn._process_quantiles(x, self.dim)\n",
    "        pdf  = mvn(self.mean, self.cov).logpdf(x)\n",
    "        cdf  = norm(0, 1).logcdf(np.dot(x, self.shape))\n",
    "        return _squeeze_output(np.log(2) + pdf + cdf)\n"
   ]
  },
  {
   "cell_type": "code",
   "execution_count": 2,
   "metadata": {},
   "outputs": [],
   "source": [
    "from itertools import combinations, product\n",
    "import matplotlib.pyplot as plt\n",
    "import numpy as np\n",
    "from scipy.special import comb\n",
    "from scipy.spatial import distance\n",
    "\n",
    "class ReferenceVectors:\n",
    "    \"\"\"Class object for reference vectors.\"\"\"\n",
    "\n",
    "    def __init__(\n",
    "        self,\n",
    "        lattice_resolution: int = None,\n",
    "        number_of_objectives: int = None,\n",
    "        creation_type: str = \"Uniform\",\n",
    "        vector_type: str = \"Spherical\",\n",
    "        ref_point: list = None,\n",
    "    ):\n",
    "        \"\"\"Create a Reference vectors object.\n",
    "\n",
    "        A simplex lattice is formed\n",
    "\n",
    "        Parameters\n",
    "        ----------\n",
    "        lattice_resolution : int\n",
    "            Number of divisions along an axis when creating the simplex lattice.\n",
    "        number_of_objectives : int\n",
    "            Number of objectives.\n",
    "        creation_type : str, optional\n",
    "            'Uniform' creates the reference vectors uniformly using simplex lattice\n",
    "            design. 'Focused' creates reference vectors symmetrically around a central\n",
    "            reference vector. 'Reversed' coming soon.By default 'Uniform'.\n",
    "        vector_type : str, optional\n",
    "            'Spherical' normalizes the vectors to a hypersphere, i.e. the second norm\n",
    "            is equal to 1. 'Planar' normalizes vectors to a plane, i.e. the first norm\n",
    "            is equal to 1. By default 'Spherical'.\n",
    "        ref_point : list, optional\n",
    "            User preference information for a priori methods.\n",
    "        \"\"\"\n",
    "\n",
    "        self.number_of_objectives = number_of_objectives\n",
    "        self.lattice_resolution = lattice_resolution\n",
    "        self.number_of_vectors = 0\n",
    "        self.creation_type = creation_type\n",
    "        self.vector_type = vector_type\n",
    "        self.values = []\n",
    "        self.values_planar = []\n",
    "        self.ref_point = [1] * number_of_objectives if ref_point is None else ref_point\n",
    "        self._create(creation_type)\n",
    "        self.initial_values = np.copy(self.values)\n",
    "        self.initial_values_planar = np.copy(self.values_planar)\n",
    "        # self.iteractive_adapt_1() Can use this for a priori preferences!\n",
    "\n",
    "    def _create(self, creation_type: str = \"Uniform\"):\n",
    "            number_of_vectors = comb(\n",
    "                self.lattice_resolution + self.number_of_objectives - 1,\n",
    "                self.number_of_objectives - 1,\n",
    "                exact=True,\n",
    "            )\n",
    "            self.number_of_vectors = number_of_vectors\n",
    "            temp1 = range(1, self.number_of_objectives + self.lattice_resolution)\n",
    "            temp1 = np.array(list(combinations(temp1, self.number_of_objectives - 1)))\n",
    "            temp2 = np.array(\n",
    "                [range(self.number_of_objectives - 1)] * self.number_of_vectors\n",
    "            )\n",
    "            temp = temp1 - temp2 - 1\n",
    "            weight = np.zeros(\n",
    "                (self.number_of_vectors, self.number_of_objectives), dtype=int\n",
    "            )\n",
    "            weight[:, 0] = temp[:, 0]\n",
    "            for i in range(1, self.number_of_objectives - 1):\n",
    "                weight[:, i] = temp[:, i] - temp[:, i - 1]\n",
    "            weight[:, -1] = self.lattice_resolution - temp[:, -1]\n",
    "            self.values = weight / self.lattice_resolution\n",
    "            self.values_planar = np.copy(self.values)\n",
    "            self.normalize()\n",
    "            return\n",
    "    \n",
    "    def normalize(self):\n",
    "        \"\"\"Normalize the reference vectors to a unit hypersphere.\"\"\"\n",
    "        self.number_of_vectors = self.values.shape[0]\n",
    "        norm_2 = np.linalg.norm(self.values, axis=1)\n",
    "        norm_1 = np.sum(self.values_planar, axis=1)\n",
    "        norm_2 = np.repeat(norm_2, self.number_of_objectives).reshape(\n",
    "            self.number_of_vectors, self.number_of_objectives\n",
    "        )\n",
    "        norm_1 = np.repeat(norm_1, self.number_of_objectives).reshape(\n",
    "            self.number_of_vectors, self.number_of_objectives\n",
    "        )\n",
    "        norm_2[norm_2 == 0] = np.finfo(float).eps\n",
    "        self.values = np.divide(self.values, norm_2)\n",
    "        self.values_planar = np.divide(self.values_planar, norm_1)\n"
   ]
  },
  {
   "cell_type": "code",
   "execution_count": 3,
   "metadata": {},
   "outputs": [],
   "source": [
    "n_of_objectives = 3\n",
    "\n",
    "#lattice_res_options = [5, 10, 7, 5, 4, 3, 3, 3, 3]\n",
    "lattice_res_options = [49, 13, 7, 5, 4, 3, 3, 3, 3]\n",
    "if n_of_objectives < 11:\n",
    "    lattice_resolution = lattice_res_options[n_of_objectives - 2]\n",
    "else:\n",
    "    lattice_resolution = 3\n",
    "reference_vectors = ReferenceVectors(\n",
    "                    lattice_resolution, n_of_objectives\n",
    ")\n"
   ]
  },
  {
   "cell_type": "code",
   "execution_count": 17,
   "metadata": {},
   "outputs": [
    {
     "name": "stderr",
     "output_type": "stream",
     "text": [
      "<ipython-input-17-4c89c5be4b62>:29: RuntimeWarning:\n",
      "\n",
      "invalid value encountered in true_divide\n",
      "\n"
     ]
    },
    {
     "data": {
      "application/vnd.plotly.v1+json": {
       "config": {
        "plotlyServerURL": "https://plot.ly"
       },
       "data": [
        {
         "marker": {
          "color": [
           0,
           0,
           0,
           0,
           0,
           0,
           0,
           0,
           0,
           0,
           0,
           0,
           0,
           0,
           0,
           0,
           0,
           0,
           0,
           0,
           0,
           0,
           0,
           0,
           0,
           0,
           0,
           0,
           0,
           0,
           0,
           0,
           0,
           0,
           0,
           0,
           0,
           0,
           0,
           0,
           0,
           0,
           0,
           0,
           0,
           0,
           0,
           0,
           0,
           0,
           0,
           0,
           0,
           0,
           0,
           0,
           0,
           0,
           0,
           0,
           0,
           0,
           0,
           0,
           0,
           0,
           0,
           0,
           0,
           0,
           0,
           0,
           0,
           0,
           0,
           0,
           0,
           0,
           0,
           0,
           0,
           0,
           0,
           0,
           0,
           0,
           0,
           0,
           0,
           0,
           0,
           0,
           0,
           0,
           0,
           0,
           0,
           0,
           0,
           0,
           0,
           0,
           0,
           0,
           0,
           1
          ],
          "colorscale": [
           [
            0,
            "rgb(0,0,255)"
           ],
           [
            1,
            "rgb(255,0,0)"
           ]
          ],
          "opacity": 0.8,
          "size": 5
         },
         "mode": "markers",
         "type": "scatter3d",
         "x": [
          null,
          null,
          null,
          null,
          null,
          null,
          null,
          null,
          null,
          null,
          null,
          null,
          null,
          null,
          0,
          -0.7356990076433727,
          -0.8410355582336556,
          -0.8934250067935356,
          -0.9017336956230907,
          -0.8760684103234242,
          -0.8279999082457191,
          -0.7673762680232847,
          -0.7007544353971331,
          -0.6314007401046962,
          -0.5595409903228608,
          -0.4807378916508107,
          0,
          0,
          -0.6907933858517176,
          -0.8294599762185505,
          -0.8864852799216516,
          -0.865229539074089,
          -0.7949887806527739,
          -0.7072138620259671,
          -0.6195558074423773,
          -0.5380097260144107,
          -0.4622438334339869,
          -0.38695736712408496,
          0,
          0,
          -0.6396939609925237,
          -0.8401730227202043,
          -0.8874813942542238,
          -0.790367314295409,
          -0.6573073798412008,
          -0.5410195516144218,
          -0.4474070926025445,
          -0.3703025947124453,
          -0.30054044646844236,
          0,
          0,
          -0.5505004243554139,
          -0.8829002475859787,
          -0.8416669603999108,
          -0.603297215555603,
          -0.4415691001448992,
          -0.3390379905508936,
          -0.2672283104103204,
          -0.20902541826227938,
          0,
          0,
          -0.35448727003491964,
          -0.9825091864531168,
          -0.5078690029763272,
          -0.28213167942561473,
          -0.19263023155917233,
          -0.1426505108965126,
          -0.10704395407684351,
          0,
          0,
          0.030108881674244446,
          0.0706615901581477,
          0.028307896513696487,
          0.016658339040481526,
          0.011532682960959252,
          0.008306744536164867,
          0,
          0,
          0.39832283450978634,
          0.4639452489436721,
          0.2922467937970899,
          0.1961049086611103,
          0.13731764906954927,
          0,
          0,
          0.5652325683727981,
          0.5405970325187691,
          0.39259347905221637,
          0.27617290230501607,
          0,
          0,
          0.6250070491599441,
          0.5577951426610652,
          0.4154976860768336,
          0,
          0,
          0.6420508659564854,
          0.5405885407775926,
          0,
          0,
          0.6314780558766806,
          0,
          0,
          0,
          null,
          0.1
         ],
         "y": [
          null,
          0,
          0,
          0,
          0,
          0,
          0,
          0,
          0,
          0,
          0,
          0,
          0,
          null,
          null,
          -0.24491311744936065,
          -0.020572296093446688,
          0.17074375567138028,
          0.3325731050616502,
          0.462220730482094,
          0.5606667012943535,
          0.6321987465744064,
          0.6820935388870975,
          0.7148486171433721,
          0.7329241953823796,
          0.7333363205666734,
          0,
          null,
          -0.3325284703420855,
          -0.029338143691166284,
          0.24497797592417997,
          0.46143332076547877,
          0.6065144976502522,
          0.692458941092741,
          0.7380647881992944,
          0.7572460122464358,
          0.7567438647947567,
          0.7329241953823796,
          0,
          null,
          -0.4473900141599884,
          -0.04317569136789657,
          0.3563265165096479,
          0.6124067343146011,
          0.7285880882197807,
          0.7696434796281602,
          0.7743731574492212,
          0.7572460122464358,
          0.7148486171433721,
          0,
          null,
          -0.6143788948484472,
          -0.07240137288209123,
          0.5392544768160435,
          0.7459451623057411,
          0.7810463876073225,
          0.7696434796281602,
          0.7380647881992944,
          0.6820935388870975,
          0,
          null,
          -0.8459773607439381,
          -0.17228650037526624,
          0.6958003676570335,
          0.7459451623057411,
          0.7285880882197807,
          0.6924589410927411,
          0.6321987465744064,
          0,
          null,
          -0.9990930439596968,
          -0.17228650037526624,
          0.5392544768160435,
          0.6124067343146011,
          0.6065144976502522,
          0.5606667012943535,
          0,
          null,
          -0.8459773607439381,
          -0.07240137288209123,
          0.3563265165096479,
          0.46143332076547877,
          0.462220730482094,
          0,
          null,
          -0.6143788948484472,
          -0.04317569136789657,
          0.24497797592417997,
          0.3325731050616502,
          0,
          null,
          -0.4473900141599884,
          -0.029338143691166284,
          0.17074375567138028,
          0,
          null,
          -0.3325284703420855,
          -0.020572296093446688,
          0,
          null,
          -0.24491311744936065,
          0,
          null,
          0,
          null,
          0.9
         ],
         "z": [
          null,
          0,
          0,
          0,
          0,
          0,
          0,
          0,
          0,
          0,
          0,
          0,
          0,
          null,
          0,
          0.6314780558766806,
          0.5405885407775926,
          0.4154976860768336,
          0.27617290230501607,
          0.13731764906954927,
          0.008306744536164867,
          -0.10704395407684351,
          -0.20902541826227938,
          -0.30054044646844236,
          -0.38695736712408496,
          -0.4807378916508107,
          null,
          0,
          0.6420508659564854,
          0.5577951426610652,
          0.39259347905221637,
          0.1961049086611103,
          0.011532682960959252,
          -0.14265051089651257,
          -0.2672283104103204,
          -0.3703025947124453,
          -0.4622438334339869,
          -0.5595409903228608,
          null,
          0,
          0.6250070491599441,
          0.5405970325187691,
          0.2922467937970899,
          0.016658339040481526,
          -0.19263023155917233,
          -0.3390379905508936,
          -0.4474070926025445,
          -0.5380097260144107,
          -0.6314007401046962,
          null,
          0,
          0.5652325683727981,
          0.4639452489436721,
          0.028307896513696487,
          -0.28213167942561473,
          -0.4415691001448992,
          -0.5410195516144218,
          -0.6195558074423773,
          -0.7007544353971331,
          null,
          0,
          0.39832283450978634,
          0.0706615901581477,
          -0.5078690029763272,
          -0.603297215555603,
          -0.6573073798412008,
          -0.7072138620259673,
          -0.7673762680232847,
          null,
          0,
          0.030108881674244446,
          -0.9825091864531168,
          -0.8416669603999108,
          -0.790367314295409,
          -0.7949887806527739,
          -0.8279999082457191,
          null,
          0,
          -0.35448727003491964,
          -0.8829002475859787,
          -0.8874813942542238,
          -0.865229539074089,
          -0.8760684103234242,
          null,
          0,
          -0.5505004243554139,
          -0.8401730227202043,
          -0.8864852799216516,
          -0.9017336956230907,
          null,
          0,
          -0.6396939609925237,
          -0.8294599762185505,
          -0.8934250067935356,
          null,
          0,
          -0.6907933858517176,
          -0.8410355582336556,
          null,
          0,
          -0.7356990076433727,
          null,
          0,
          null,
          null,
          0.1
         ]
        }
       ],
       "layout": {
        "margin": {
         "b": 0,
         "l": 0,
         "r": 0,
         "t": 0
        },
        "scene": {
         "xaxis": {
          "nticks": 4,
          "range": [
           0,
           1
          ]
         },
         "yaxis": {
          "nticks": 4,
          "range": [
           0,
           1
          ]
         },
         "zaxis": {
          "nticks": 4,
          "range": [
           0,
           1
          ]
         }
        },
        "template": {
         "data": {
          "bar": [
           {
            "error_x": {
             "color": "#2a3f5f"
            },
            "error_y": {
             "color": "#2a3f5f"
            },
            "marker": {
             "line": {
              "color": "#E5ECF6",
              "width": 0.5
             }
            },
            "type": "bar"
           }
          ],
          "barpolar": [
           {
            "marker": {
             "line": {
              "color": "#E5ECF6",
              "width": 0.5
             }
            },
            "type": "barpolar"
           }
          ],
          "carpet": [
           {
            "aaxis": {
             "endlinecolor": "#2a3f5f",
             "gridcolor": "white",
             "linecolor": "white",
             "minorgridcolor": "white",
             "startlinecolor": "#2a3f5f"
            },
            "baxis": {
             "endlinecolor": "#2a3f5f",
             "gridcolor": "white",
             "linecolor": "white",
             "minorgridcolor": "white",
             "startlinecolor": "#2a3f5f"
            },
            "type": "carpet"
           }
          ],
          "choropleth": [
           {
            "colorbar": {
             "outlinewidth": 0,
             "ticks": ""
            },
            "type": "choropleth"
           }
          ],
          "contour": [
           {
            "colorbar": {
             "outlinewidth": 0,
             "ticks": ""
            },
            "colorscale": [
             [
              0,
              "#0d0887"
             ],
             [
              0.1111111111111111,
              "#46039f"
             ],
             [
              0.2222222222222222,
              "#7201a8"
             ],
             [
              0.3333333333333333,
              "#9c179e"
             ],
             [
              0.4444444444444444,
              "#bd3786"
             ],
             [
              0.5555555555555556,
              "#d8576b"
             ],
             [
              0.6666666666666666,
              "#ed7953"
             ],
             [
              0.7777777777777778,
              "#fb9f3a"
             ],
             [
              0.8888888888888888,
              "#fdca26"
             ],
             [
              1,
              "#f0f921"
             ]
            ],
            "type": "contour"
           }
          ],
          "contourcarpet": [
           {
            "colorbar": {
             "outlinewidth": 0,
             "ticks": ""
            },
            "type": "contourcarpet"
           }
          ],
          "heatmap": [
           {
            "colorbar": {
             "outlinewidth": 0,
             "ticks": ""
            },
            "colorscale": [
             [
              0,
              "#0d0887"
             ],
             [
              0.1111111111111111,
              "#46039f"
             ],
             [
              0.2222222222222222,
              "#7201a8"
             ],
             [
              0.3333333333333333,
              "#9c179e"
             ],
             [
              0.4444444444444444,
              "#bd3786"
             ],
             [
              0.5555555555555556,
              "#d8576b"
             ],
             [
              0.6666666666666666,
              "#ed7953"
             ],
             [
              0.7777777777777778,
              "#fb9f3a"
             ],
             [
              0.8888888888888888,
              "#fdca26"
             ],
             [
              1,
              "#f0f921"
             ]
            ],
            "type": "heatmap"
           }
          ],
          "heatmapgl": [
           {
            "colorbar": {
             "outlinewidth": 0,
             "ticks": ""
            },
            "colorscale": [
             [
              0,
              "#0d0887"
             ],
             [
              0.1111111111111111,
              "#46039f"
             ],
             [
              0.2222222222222222,
              "#7201a8"
             ],
             [
              0.3333333333333333,
              "#9c179e"
             ],
             [
              0.4444444444444444,
              "#bd3786"
             ],
             [
              0.5555555555555556,
              "#d8576b"
             ],
             [
              0.6666666666666666,
              "#ed7953"
             ],
             [
              0.7777777777777778,
              "#fb9f3a"
             ],
             [
              0.8888888888888888,
              "#fdca26"
             ],
             [
              1,
              "#f0f921"
             ]
            ],
            "type": "heatmapgl"
           }
          ],
          "histogram": [
           {
            "marker": {
             "colorbar": {
              "outlinewidth": 0,
              "ticks": ""
             }
            },
            "type": "histogram"
           }
          ],
          "histogram2d": [
           {
            "colorbar": {
             "outlinewidth": 0,
             "ticks": ""
            },
            "colorscale": [
             [
              0,
              "#0d0887"
             ],
             [
              0.1111111111111111,
              "#46039f"
             ],
             [
              0.2222222222222222,
              "#7201a8"
             ],
             [
              0.3333333333333333,
              "#9c179e"
             ],
             [
              0.4444444444444444,
              "#bd3786"
             ],
             [
              0.5555555555555556,
              "#d8576b"
             ],
             [
              0.6666666666666666,
              "#ed7953"
             ],
             [
              0.7777777777777778,
              "#fb9f3a"
             ],
             [
              0.8888888888888888,
              "#fdca26"
             ],
             [
              1,
              "#f0f921"
             ]
            ],
            "type": "histogram2d"
           }
          ],
          "histogram2dcontour": [
           {
            "colorbar": {
             "outlinewidth": 0,
             "ticks": ""
            },
            "colorscale": [
             [
              0,
              "#0d0887"
             ],
             [
              0.1111111111111111,
              "#46039f"
             ],
             [
              0.2222222222222222,
              "#7201a8"
             ],
             [
              0.3333333333333333,
              "#9c179e"
             ],
             [
              0.4444444444444444,
              "#bd3786"
             ],
             [
              0.5555555555555556,
              "#d8576b"
             ],
             [
              0.6666666666666666,
              "#ed7953"
             ],
             [
              0.7777777777777778,
              "#fb9f3a"
             ],
             [
              0.8888888888888888,
              "#fdca26"
             ],
             [
              1,
              "#f0f921"
             ]
            ],
            "type": "histogram2dcontour"
           }
          ],
          "mesh3d": [
           {
            "colorbar": {
             "outlinewidth": 0,
             "ticks": ""
            },
            "type": "mesh3d"
           }
          ],
          "parcoords": [
           {
            "line": {
             "colorbar": {
              "outlinewidth": 0,
              "ticks": ""
             }
            },
            "type": "parcoords"
           }
          ],
          "pie": [
           {
            "automargin": true,
            "type": "pie"
           }
          ],
          "scatter": [
           {
            "marker": {
             "colorbar": {
              "outlinewidth": 0,
              "ticks": ""
             }
            },
            "type": "scatter"
           }
          ],
          "scatter3d": [
           {
            "line": {
             "colorbar": {
              "outlinewidth": 0,
              "ticks": ""
             }
            },
            "marker": {
             "colorbar": {
              "outlinewidth": 0,
              "ticks": ""
             }
            },
            "type": "scatter3d"
           }
          ],
          "scattercarpet": [
           {
            "marker": {
             "colorbar": {
              "outlinewidth": 0,
              "ticks": ""
             }
            },
            "type": "scattercarpet"
           }
          ],
          "scattergeo": [
           {
            "marker": {
             "colorbar": {
              "outlinewidth": 0,
              "ticks": ""
             }
            },
            "type": "scattergeo"
           }
          ],
          "scattergl": [
           {
            "marker": {
             "colorbar": {
              "outlinewidth": 0,
              "ticks": ""
             }
            },
            "type": "scattergl"
           }
          ],
          "scattermapbox": [
           {
            "marker": {
             "colorbar": {
              "outlinewidth": 0,
              "ticks": ""
             }
            },
            "type": "scattermapbox"
           }
          ],
          "scatterpolar": [
           {
            "marker": {
             "colorbar": {
              "outlinewidth": 0,
              "ticks": ""
             }
            },
            "type": "scatterpolar"
           }
          ],
          "scatterpolargl": [
           {
            "marker": {
             "colorbar": {
              "outlinewidth": 0,
              "ticks": ""
             }
            },
            "type": "scatterpolargl"
           }
          ],
          "scatterternary": [
           {
            "marker": {
             "colorbar": {
              "outlinewidth": 0,
              "ticks": ""
             }
            },
            "type": "scatterternary"
           }
          ],
          "surface": [
           {
            "colorbar": {
             "outlinewidth": 0,
             "ticks": ""
            },
            "colorscale": [
             [
              0,
              "#0d0887"
             ],
             [
              0.1111111111111111,
              "#46039f"
             ],
             [
              0.2222222222222222,
              "#7201a8"
             ],
             [
              0.3333333333333333,
              "#9c179e"
             ],
             [
              0.4444444444444444,
              "#bd3786"
             ],
             [
              0.5555555555555556,
              "#d8576b"
             ],
             [
              0.6666666666666666,
              "#ed7953"
             ],
             [
              0.7777777777777778,
              "#fb9f3a"
             ],
             [
              0.8888888888888888,
              "#fdca26"
             ],
             [
              1,
              "#f0f921"
             ]
            ],
            "type": "surface"
           }
          ],
          "table": [
           {
            "cells": {
             "fill": {
              "color": "#EBF0F8"
             },
             "line": {
              "color": "white"
             }
            },
            "header": {
             "fill": {
              "color": "#C8D4E3"
             },
             "line": {
              "color": "white"
             }
            },
            "type": "table"
           }
          ]
         },
         "layout": {
          "annotationdefaults": {
           "arrowcolor": "#2a3f5f",
           "arrowhead": 0,
           "arrowwidth": 1
          },
          "autotypenumbers": "strict",
          "coloraxis": {
           "colorbar": {
            "outlinewidth": 0,
            "ticks": ""
           }
          },
          "colorscale": {
           "diverging": [
            [
             0,
             "#8e0152"
            ],
            [
             0.1,
             "#c51b7d"
            ],
            [
             0.2,
             "#de77ae"
            ],
            [
             0.3,
             "#f1b6da"
            ],
            [
             0.4,
             "#fde0ef"
            ],
            [
             0.5,
             "#f7f7f7"
            ],
            [
             0.6,
             "#e6f5d0"
            ],
            [
             0.7,
             "#b8e186"
            ],
            [
             0.8,
             "#7fbc41"
            ],
            [
             0.9,
             "#4d9221"
            ],
            [
             1,
             "#276419"
            ]
           ],
           "sequential": [
            [
             0,
             "#0d0887"
            ],
            [
             0.1111111111111111,
             "#46039f"
            ],
            [
             0.2222222222222222,
             "#7201a8"
            ],
            [
             0.3333333333333333,
             "#9c179e"
            ],
            [
             0.4444444444444444,
             "#bd3786"
            ],
            [
             0.5555555555555556,
             "#d8576b"
            ],
            [
             0.6666666666666666,
             "#ed7953"
            ],
            [
             0.7777777777777778,
             "#fb9f3a"
            ],
            [
             0.8888888888888888,
             "#fdca26"
            ],
            [
             1,
             "#f0f921"
            ]
           ],
           "sequentialminus": [
            [
             0,
             "#0d0887"
            ],
            [
             0.1111111111111111,
             "#46039f"
            ],
            [
             0.2222222222222222,
             "#7201a8"
            ],
            [
             0.3333333333333333,
             "#9c179e"
            ],
            [
             0.4444444444444444,
             "#bd3786"
            ],
            [
             0.5555555555555556,
             "#d8576b"
            ],
            [
             0.6666666666666666,
             "#ed7953"
            ],
            [
             0.7777777777777778,
             "#fb9f3a"
            ],
            [
             0.8888888888888888,
             "#fdca26"
            ],
            [
             1,
             "#f0f921"
            ]
           ]
          },
          "colorway": [
           "#636efa",
           "#EF553B",
           "#00cc96",
           "#ab63fa",
           "#FFA15A",
           "#19d3f3",
           "#FF6692",
           "#B6E880",
           "#FF97FF",
           "#FECB52"
          ],
          "font": {
           "color": "#2a3f5f"
          },
          "geo": {
           "bgcolor": "white",
           "lakecolor": "white",
           "landcolor": "#E5ECF6",
           "showlakes": true,
           "showland": true,
           "subunitcolor": "white"
          },
          "hoverlabel": {
           "align": "left"
          },
          "hovermode": "closest",
          "mapbox": {
           "style": "light"
          },
          "paper_bgcolor": "white",
          "plot_bgcolor": "#E5ECF6",
          "polar": {
           "angularaxis": {
            "gridcolor": "white",
            "linecolor": "white",
            "ticks": ""
           },
           "bgcolor": "#E5ECF6",
           "radialaxis": {
            "gridcolor": "white",
            "linecolor": "white",
            "ticks": ""
           }
          },
          "scene": {
           "xaxis": {
            "backgroundcolor": "#E5ECF6",
            "gridcolor": "white",
            "gridwidth": 2,
            "linecolor": "white",
            "showbackground": true,
            "ticks": "",
            "zerolinecolor": "white"
           },
           "yaxis": {
            "backgroundcolor": "#E5ECF6",
            "gridcolor": "white",
            "gridwidth": 2,
            "linecolor": "white",
            "showbackground": true,
            "ticks": "",
            "zerolinecolor": "white"
           },
           "zaxis": {
            "backgroundcolor": "#E5ECF6",
            "gridcolor": "white",
            "gridwidth": 2,
            "linecolor": "white",
            "showbackground": true,
            "ticks": "",
            "zerolinecolor": "white"
           }
          },
          "shapedefaults": {
           "line": {
            "color": "#2a3f5f"
           }
          },
          "ternary": {
           "aaxis": {
            "gridcolor": "white",
            "linecolor": "white",
            "ticks": ""
           },
           "baxis": {
            "gridcolor": "white",
            "linecolor": "white",
            "ticks": ""
           },
           "bgcolor": "#E5ECF6",
           "caxis": {
            "gridcolor": "white",
            "linecolor": "white",
            "ticks": ""
           }
          },
          "title": {
           "x": 0.05
          },
          "xaxis": {
           "automargin": true,
           "gridcolor": "white",
           "linecolor": "white",
           "ticks": "",
           "title": {
            "standoff": 15
           },
           "zerolinecolor": "white",
           "zerolinewidth": 2
          },
          "yaxis": {
           "automargin": true,
           "gridcolor": "white",
           "linecolor": "white",
           "ticks": "",
           "title": {
            "standoff": 15
           },
           "zerolinecolor": "white",
           "zerolinewidth": 2
          }
         }
        }
       }
      }
     },
     "metadata": {},
     "output_type": "display_data"
    }
   ],
   "source": [
    "from scipy.stats import triang\n",
    "from scipy.stats import truncnorm\n",
    "from scipy.stats import skewnorm\n",
    "from scipy.stats import norm\n",
    "from scipy.stats import trapezoid\n",
    "import plotly.express as px\n",
    "import plotly.graph_objects as go\n",
    "import pandas as pd\n",
    "\n",
    "ref_point_orig = [0.1, 0.9, 0.1]\n",
    "ref_point = ref_point_orig/np.linalg.norm(ref_point_orig)\n",
    "ref_v = reference_vectors.initial_values_planar\n",
    "n_ref = np.shape(ref_v)[0]\n",
    "ref_v_inv_rns = np.zeros((n_ref,n_of_objectives))\n",
    "for k in range(n_of_objectives):\n",
    "    ref_v_inv_rns[:,k] = ref_v[:,k]\n",
    "    mean = ref_point[k]\n",
    "    #ref_v_inv_rns[:,k] = triang.ppf(q=ref_v[:,k], c=mean, loc=0, scale=1)\n",
    "    ref_v_inv_rns[:,k] = norm.ppf(q=ref_v[:,k], loc=mean, scale=1)\n",
    "    #ref_v_inv_rns[:,k] = truncnorm.ppf(q=ref_v[:,k], a=0, b=1, loc=mean, scale=2)\n",
    "    #ref_v_inv_rns[:,k] = skewnorm.ppf(q=ref_v[:,k], a=mean-0.5, loc=mean, scale=0.2)\n",
    "    #ref_v_inv_rns[:,k] = trapezoid.ppf(q=ref_v[:,k], c=mean-0.05, d= mean+0.05,loc=0, scale=1)\n",
    "#nan_array = np.isnan(ref_v_inv_rns,axis=1)\n",
    "#not_nan_array = ~ nan_array\n",
    "#ref_v_inv_rns = ref_v_inv_rns[not_nan_array]\n",
    "\n",
    "norm_2 = np.linalg.norm(ref_v_inv_rns, axis=1)\n",
    "norm_2 = np.repeat(norm_2, n_of_objectives).reshape(n_ref,n_of_objectives)\n",
    "ref_v_trx = np.divide(ref_v_inv_rns,norm_2)\n",
    "\n",
    "ref_v_trx = np.vstack((ref_v_trx,ref_point_orig))\n",
    "color_column = np.append(np.zeros(n_ref),1)\n",
    "ref_v_trx = np.hstack((ref_v_trx,color_column.reshape(-1,1)))\n",
    "df=pd.DataFrame(ref_v_trx)\n",
    "df.columns = ['0','1','2','3']\n",
    "\n",
    "#fig = px.scatter_3d(df, x='0', y='1', z='2',color='3')\n",
    "#fig = px.colors\n",
    "#fig.update_traces(marker={'size': 3})\n",
    "#fig.show()\n",
    "fig = go.Figure(data=[go.Scatter3d(\n",
    "    x=ref_v_trx[:,0],\n",
    "    y=ref_v_trx[:,1],\n",
    "    z=ref_v_trx[:,2],\n",
    "    mode='markers',\n",
    "    marker=dict(\n",
    "        size=5,\n",
    "        color=color_column,                # set color to an array/list of desired values\n",
    "        colorscale='Bluered',   # choose a colorscale\n",
    "        opacity=0.8\n",
    "    )\n",
    ")])\n",
    "\n",
    "# tight layout\n",
    "fig.update_layout(    scene = dict(\n",
    "        xaxis = dict(nticks=4, range=[0,1],),\n",
    "                     yaxis = dict(nticks=4, range=[0,1],),\n",
    "                     zaxis = dict(nticks=4, range=[0,1],),),\n",
    "    margin=dict(l=0, r=0, b=0, t=0))\n",
    "fig.show()"
   ]
  },
  {
   "cell_type": "code",
   "execution_count": 65,
   "metadata": {},
   "outputs": [],
   "source": [
    "from scipy.stats import triang\n",
    "\n",
    "def project_low_dim(ref_v, n_objs):\n",
    "    n_ref = np.shape(ref_v)[0]\n",
    "    ref_v_translated = ref_v - np.tile([0,1,0],(n_ref,1))\n",
    "    ref_v_rot = np.zeros((n_ref,n_objs))\n",
    "    ref_v_rot[:,0] = ref_v_translated[:,0]*np.cos(np.pi/4.) - ref_v_translated[:,1]*np.sin(np.pi/4.)\n",
    "    ref_v_rot[:,1] = ref_v_translated[:,0]*np.sin(np.pi/4.) + ref_v_translated[:,1]*np.cos(np.pi/4.)\n",
    "    ref_v_translated[:,0] = ref_v_rot[:,0]\n",
    "    ref_v_translated[:,1] = ref_v_rot[:,1]\n",
    "    norm_fact = np.max(ref_v_rot[:,0])\n",
    "    #ref_v_rot[:,0] = ref_v_rot[:,0]/norm_fact\n",
    "    return (ref_v_translated, norm_fact)\n",
    "\n",
    "def project_high_dim(ref_v_inv_rns, norm_fact, n_objs):\n",
    "    ref_v_inv_rns[:,0] = ref_v_inv_rns[:,0]*norm_fact\n",
    "    ref_v_rot2 = np.zeros((n_ref,n_objs))\n",
    "    ref_v_rot2[:,0] = ref_v_inv_rns[:,0]*np.cos(-np.pi/4.) - ref_v_inv_rns[:,1]*np.sin(-np.pi/4.)\n",
    "    ref_v_rot2[:,1] = ref_v_inv_rns[:,0]*np.sin(-np.pi/4.) + ref_v_inv_rns[:,1]*np.cos(-np.pi/4.)\n",
    "    ref_v_translated2 = ref_v_rot2 + np.tile([0,1],(n_ref,1))\n",
    "    return ref_v_translated2\n",
    "\n",
    "def inv_sampling(ref_v_low, n_ref, ref_point, n_objs):\n",
    "    ref_v_inv_rns = np.zeros((n_ref,n_objs))\n",
    "    for k in range(n_of_objectives-1):\n",
    "        ref_v_inv_rns[:,k] = ref_v_low[:,k]\n",
    "        mean = ref_point[0][k]\n",
    "        ref_v_inv_rns[:,k] = triang.ppf(q=ref_v_inv_rns[:,k], c=mean, loc=0, scale=1)\n",
    "    return ref_v_inv_rns"
   ]
  },
  {
   "cell_type": "code",
   "execution_count": 102,
   "metadata": {},
   "outputs": [
    {
     "data": {
      "image/png": "[encoded data removed]",
      "text/plain": [
       "<Figure size 432x288 with 1 Axes>"
      ]
     },
     "metadata": {
      "needs_background": "light"
     },
     "output_type": "display_data"
    },
    {
     "data": {
      "image/png": "[encoded data removed]",
      "text/plain": [
       "<Figure size 432x288 with 1 Axes>"
      ]
     },
     "metadata": {
      "needs_background": "light"
     },
     "output_type": "display_data"
    },
    {
     "data": {
      "image/png": "[encoded data removed]",
      "text/plain": [
       "<Figure size 432x288 with 1 Axes>"
      ]
     },
     "metadata": {
      "needs_background": "light"
     },
     "output_type": "display_data"
    }
   ],
   "source": [
    "ref_v = reference_vectors.initial_values_planar\n",
    "n_ref = np.shape(ref_v)[0]\n",
    "ref_v_translated = ref_v - np.tile([0,0,1],(n_ref,1))\n",
    "fig = plt.figure()\n",
    "ax = fig.add_subplot(projection='3d')\n",
    "ax.scatter(ref_v_translated[:,0],ref_v_translated[:,1],ref_v_translated[:,2])\n",
    "plt.show()\n",
    "ref_v_rot = np.zeros((n_ref,n_of_objectives))\n",
    "ref_v_rot[:,1] = ref_v_translated[:,1]*np.cos(np.pi/4.) - ref_v_translated[:,2]*np.sin(np.pi/4.)\n",
    "ref_v_rot[:,2] = ref_v_translated[:,1]*np.sin(np.pi/4.) + ref_v_translated[:,2]*np.cos(np.pi/4.)\n",
    "ref_v_translated[:,1] = ref_v_rot[:,1]\n",
    "ref_v_translated[:,2] = ref_v_rot[:,2]\n",
    "fig = plt.figure()\n",
    "ax = fig.add_subplot(projection='3d')\n",
    "ax.scatter(ref_v_translated[:,0],ref_v_translated[:,1],ref_v_translated[:,2])\n",
    "plt.show()\n",
    "\n",
    "theta2 = np.arctan(np.min(ref_v_translated, axis=0)[2])\n",
    "ref_v_rot = np.zeros((n_ref,n_of_objectives))\n",
    "ref_v_rot[:,0] = ref_v_translated[:,0]*np.cos(theta2) + ref_v_translated[:,2]*np.sin(theta2)\n",
    "ref_v_rot[:,2] = -ref_v_translated[:,0]*np.sin(theta2) + ref_v_translated[:,2]*np.cos(theta2)\n",
    "ref_v_translated[:,0] = ref_v_rot[:,0]\n",
    "ref_v_translated[:,2] = ref_v_rot[:,2]\n",
    "fig = plt.figure()\n",
    "ax = fig.add_subplot(projection='3d')\n",
    "ax.scatter(ref_v_translated[:,0],ref_v_translated[:,1],ref_v_translated[:,2])\n",
    "ax.set_zlim(-1,1)\n",
    "plt.show()\n",
    "\n"
   ]
  },
  {
   "cell_type": "code",
   "execution_count": 104,
   "metadata": {},
   "outputs": [],
   "source": [
    "norm_fact = np.max(ref_v_translated,axis=0)"
   ]
  },
  {
   "cell_type": "code",
   "execution_count": 105,
   "metadata": {},
   "outputs": [],
   "source": [
    "ref_v_translated_x = ref_v_translated[:,0]/norm_fact[0]\n",
    "ref_v_translated_y = ref_v_translated[:,1]/norm_fact[1]"
   ]
  },
  {
   "cell_type": "code",
   "execution_count": 106,
   "metadata": {},
   "outputs": [
    {
     "data": {
      "image/png": "[encoded data removed]",
      "text/plain": [
       "<Figure size 432x288 with 1 Axes>"
      ]
     },
     "metadata": {
      "needs_background": "light"
     },
     "output_type": "display_data"
    }
   ],
   "source": [
    "fig = plt.figure()\n",
    "ax = fig.add_subplot(projection='3d')\n",
    "ax.scatter(ref_v_translated_x,ref_v_translated_y,ref_v_translated[:,2])\n",
    "ax.set_zlim(-1,1)\n",
    "plt.show()"
   ]
  },
  {
   "cell_type": "code",
   "execution_count": 109,
   "metadata": {},
   "outputs": [],
   "source": [
    "ref_point = [0.5,0.5]\n",
    "ref_v_inv_rns = np.zeros((n_ref,n_of_objectives))\n",
    "ref_v_inv_rns[:,0] = ref_v_translated_x\n",
    "mean = ref_point[0]\n",
    "ref_v_inv_rns[:,0] = triang.ppf(q=ref_v_inv_rns[:,0], c=mean, loc=0, scale=1)\n",
    "ref_v_inv_rns[:,1] = ref_v_translated_y\n",
    "mean = ref_point[1]\n",
    "ref_v_inv_rns[:,1] = triang.ppf(q=ref_v_inv_rns[:,1], c=mean, loc=0, scale=1)"
   ]
  },
  {
   "cell_type": "code",
   "execution_count": 110,
   "metadata": {},
   "outputs": [
    {
     "data": {
      "image/png": "[encoded data removed]",
      "text/plain": [
       "<Figure size 432x288 with 1 Axes>"
      ]
     },
     "metadata": {
      "needs_background": "light"
     },
     "output_type": "display_data"
    }
   ],
   "source": [
    "fig = plt.figure()\n",
    "ax = fig.add_subplot(projection='3d')\n",
    "ax.scatter(ref_v_inv_rns[:,0],ref_v_inv_rns[:,1],ref_v_translated[:,2])\n",
    "ax.set_zlim(-1,1)\n",
    "plt.show()"
   ]
  },
  {
   "cell_type": "code",
   "execution_count": 67,
   "metadata": {},
   "outputs": [
    {
     "data": {
      "image/png": "[encoded data removed]",
      "text/plain": [
       "<Figure size 432x288 with 1 Axes>"
      ]
     },
     "metadata": {
      "needs_background": "light"
     },
     "output_type": "display_data"
    },
    {
     "data": {
      "image/png": "[encoded data removed]",
      "text/plain": [
       "<Figure size 432x288 with 1 Axes>"
      ]
     },
     "metadata": {
      "needs_background": "light"
     },
     "output_type": "display_data"
    }
   ],
   "source": [
    "(ref_v_low,norm_fact) = project_low_dim(ref_v_x, n_of_objectives)\n",
    "ref_v_transformed = inv_sampling(ref_v_low[0:n_ref,:], n_ref, ref_v_low[n_ref:n_ref+1,:], n_of_objectives)\n",
    "\n",
    "fig = plt.figure()\n",
    "ax = fig.add_subplot(projection='3d')\n",
    "ax.scatter(ref_v_low[0:n_ref,0],ref_v_low[0:n_ref,1],ref_v_low[0:n_ref,2])\n",
    "#plt.ylim(-2,2)\n",
    "plt.show()\n",
    "fig = plt.figure()\n",
    "ax = fig.add_subplot(projection='3d')\n",
    "ax.scatter(ref_v_transformed[:,0],ref_v_transformed[:,1],ref_v_transformed[:,2])\n",
    "#plt.ylim(-2,2)\n",
    "plt.show()"
   ]
  },
  {
   "cell_type": "code",
   "execution_count": 68,
   "metadata": {},
   "outputs": [
    {
     "data": {
      "text/plain": [
       "array([[ 7.07106781e-01, -7.07106781e-01,  1.00000000e+00],\n",
       "       [ 6.52713952e-01, -6.52713952e-01,  9.23076923e-01],\n",
       "       [ 5.98321123e-01, -5.98321123e-01,  8.46153846e-01],\n",
       "       [ 5.43928293e-01, -5.43928293e-01,  7.69230769e-01],\n",
       "       [ 4.89535464e-01, -4.89535464e-01,  6.92307692e-01],\n",
       "       [ 4.35142635e-01, -4.35142635e-01,  6.15384615e-01],\n",
       "       [ 3.80749805e-01, -3.80749805e-01,  5.38461538e-01],\n",
       "       [ 3.26356976e-01, -3.26356976e-01,  4.61538462e-01],\n",
       "       [ 2.71964147e-01, -2.71964147e-01,  3.84615385e-01],\n",
       "       [ 2.17571317e-01, -2.17571317e-01,  3.07692308e-01],\n",
       "       [ 1.63178488e-01, -1.63178488e-01,  2.30769231e-01],\n",
       "       [ 1.08785659e-01, -1.08785659e-01,  1.53846154e-01],\n",
       "       [ 5.43928293e-02, -5.43928293e-02,  7.69230769e-02],\n",
       "       [ 0.00000000e+00,  0.00000000e+00,  0.00000000e+00],\n",
       "       [ 7.61499611e-01, -6.52713952e-01,  9.23076923e-01],\n",
       "       [ 7.07106781e-01, -5.98321123e-01,  8.46153846e-01],\n",
       "       [ 6.52713952e-01, -5.43928293e-01,  7.69230769e-01],\n",
       "       [ 5.98321123e-01, -4.89535464e-01,  6.92307692e-01],\n",
       "       [ 5.43928293e-01, -4.35142635e-01,  6.15384615e-01],\n",
       "       [ 4.89535464e-01, -3.80749805e-01,  5.38461538e-01],\n",
       "       [ 4.35142635e-01, -3.26356976e-01,  4.61538462e-01],\n",
       "       [ 3.80749805e-01, -2.71964147e-01,  3.84615385e-01],\n",
       "       [ 3.26356976e-01, -2.17571317e-01,  3.07692308e-01],\n",
       "       [ 2.71964147e-01, -1.63178488e-01,  2.30769231e-01],\n",
       "       [ 2.17571317e-01, -1.08785659e-01,  1.53846154e-01],\n",
       "       [ 1.63178488e-01, -5.43928293e-02,  7.69230769e-02],\n",
       "       [ 1.08785659e-01,  3.46944695e-17,  0.00000000e+00],\n",
       "       [ 8.15892440e-01, -5.98321123e-01,  8.46153846e-01],\n",
       "       [ 7.61499611e-01, -5.43928293e-01,  7.69230769e-01],\n",
       "       [ 7.07106781e-01, -4.89535464e-01,  6.92307692e-01],\n",
       "       [ 6.52713952e-01, -4.35142635e-01,  6.15384615e-01],\n",
       "       [ 5.98321123e-01, -3.80749805e-01,  5.38461538e-01],\n",
       "       [ 5.43928293e-01, -3.26356976e-01,  4.61538462e-01],\n",
       "       [ 4.89535464e-01, -2.71964147e-01,  3.84615385e-01],\n",
       "       [ 4.35142635e-01, -2.17571317e-01,  3.07692308e-01],\n",
       "       [ 3.80749805e-01, -1.63178488e-01,  2.30769231e-01],\n",
       "       [ 3.26356976e-01, -1.08785659e-01,  1.53846154e-01],\n",
       "       [ 2.71964147e-01, -5.43928293e-02,  7.69230769e-02],\n",
       "       [ 2.17571317e-01, -1.38777878e-17,  0.00000000e+00],\n",
       "       [ 8.70285269e-01, -5.43928293e-01,  7.69230769e-01],\n",
       "       [ 8.15892440e-01, -4.89535464e-01,  6.92307692e-01],\n",
       "       [ 7.61499611e-01, -4.35142635e-01,  6.15384615e-01],\n",
       "       [ 7.07106781e-01, -3.80749805e-01,  5.38461538e-01],\n",
       "       [ 6.52713952e-01, -3.26356976e-01,  4.61538462e-01],\n",
       "       [ 5.98321123e-01, -2.71964147e-01,  3.84615385e-01],\n",
       "       [ 5.43928293e-01, -2.17571317e-01,  3.07692308e-01],\n",
       "       [ 4.89535464e-01, -1.63178488e-01,  2.30769231e-01],\n",
       "       [ 4.35142635e-01, -1.08785659e-01,  1.53846154e-01],\n",
       "       [ 3.80749805e-01, -5.43928293e-02,  7.69230769e-02],\n",
       "       [ 3.26356976e-01,  2.77555756e-17,  0.00000000e+00],\n",
       "       [ 9.24678098e-01, -4.89535464e-01,  6.92307692e-01],\n",
       "       [ 8.70285269e-01, -4.35142635e-01,  6.15384615e-01],\n",
       "       [ 8.15892440e-01, -3.80749805e-01,  5.38461538e-01],\n",
       "       [ 7.61499611e-01, -3.26356976e-01,  4.61538462e-01],\n",
       "       [ 7.07106781e-01, -2.71964147e-01,  3.84615385e-01],\n",
       "       [ 6.52713952e-01, -2.17571317e-01,  3.07692308e-01],\n",
       "       [ 5.98321123e-01, -1.63178488e-01,  2.30769231e-01],\n",
       "       [ 5.43928293e-01, -1.08785659e-01,  1.53846154e-01],\n",
       "       [ 4.89535464e-01, -5.43928293e-02,  7.69230769e-02],\n",
       "       [ 4.35142635e-01, -2.77555756e-17,  0.00000000e+00],\n",
       "       [ 9.79070928e-01, -4.35142635e-01,  6.15384615e-01],\n",
       "       [ 9.24678098e-01, -3.80749805e-01,  5.38461538e-01],\n",
       "       [ 8.70285269e-01, -3.26356976e-01,  4.61538462e-01],\n",
       "       [ 8.15892440e-01, -2.71964147e-01,  3.84615385e-01],\n",
       "       [ 7.61499611e-01, -2.17571317e-01,  3.07692308e-01],\n",
       "       [ 7.07106781e-01, -1.63178488e-01,  2.30769231e-01],\n",
       "       [ 6.52713952e-01, -1.08785659e-01,  1.53846154e-01],\n",
       "       [ 5.98321123e-01, -5.43928293e-02,  7.69230769e-02],\n",
       "       [ 5.43928293e-01,  0.00000000e+00,  0.00000000e+00],\n",
       "       [ 1.03346376e+00, -3.80749805e-01,  5.38461538e-01],\n",
       "       [ 9.79070928e-01, -3.26356976e-01,  4.61538462e-01],\n",
       "       [ 9.24678098e-01, -2.71964147e-01,  3.84615385e-01],\n",
       "       [ 8.70285269e-01, -2.17571317e-01,  3.07692308e-01],\n",
       "       [ 8.15892440e-01, -1.63178488e-01,  2.30769231e-01],\n",
       "       [ 7.61499611e-01, -1.08785659e-01,  1.53846154e-01],\n",
       "       [ 7.07106781e-01, -5.43928293e-02,  7.69230769e-02],\n",
       "       [ 6.52713952e-01, -5.55111512e-17,  0.00000000e+00],\n",
       "       [ 1.08785659e+00, -3.26356976e-01,  4.61538462e-01],\n",
       "       [ 1.03346376e+00, -2.71964147e-01,  3.84615385e-01],\n",
       "       [ 9.79070928e-01, -2.17571317e-01,  3.07692308e-01],\n",
       "       [ 9.24678098e-01, -1.63178488e-01,  2.30769231e-01],\n",
       "       [ 8.70285269e-01, -1.08785659e-01,  1.53846154e-01],\n",
       "       [ 8.15892440e-01, -5.43928293e-02,  7.69230769e-02],\n",
       "       [ 7.61499611e-01, -5.55111512e-17,  0.00000000e+00],\n",
       "       [ 1.14224942e+00, -2.71964147e-01,  3.84615385e-01],\n",
       "       [ 1.08785659e+00, -2.17571317e-01,  3.07692308e-01],\n",
       "       [ 1.03346376e+00, -1.63178488e-01,  2.30769231e-01],\n",
       "       [ 9.79070928e-01, -1.08785659e-01,  1.53846154e-01],\n",
       "       [ 9.24678098e-01, -5.43928293e-02,  7.69230769e-02],\n",
       "       [ 8.70285269e-01, -5.55111512e-17,  0.00000000e+00],\n",
       "       [ 1.19664225e+00, -2.17571317e-01,  3.07692308e-01],\n",
       "       [ 1.14224942e+00, -1.63178488e-01,  2.30769231e-01],\n",
       "       [ 1.08785659e+00, -1.08785659e-01,  1.53846154e-01],\n",
       "       [ 1.03346376e+00, -5.43928293e-02,  7.69230769e-02],\n",
       "       [ 9.79070928e-01, -1.11022302e-16,  0.00000000e+00],\n",
       "       [ 1.25103507e+00, -1.63178488e-01,  2.30769231e-01],\n",
       "       [ 1.19664225e+00, -1.08785659e-01,  1.53846154e-01],\n",
       "       [ 1.14224942e+00, -5.43928293e-02,  7.69230769e-02],\n",
       "       [ 1.08785659e+00,  0.00000000e+00,  0.00000000e+00],\n",
       "       [ 1.30542790e+00, -1.08785659e-01,  1.53846154e-01],\n",
       "       [ 1.25103507e+00, -5.43928293e-02,  7.69230769e-02],\n",
       "       [ 1.19664225e+00,  0.00000000e+00,  0.00000000e+00],\n",
       "       [ 1.35982073e+00, -5.43928293e-02,  7.69230769e-02],\n",
       "       [ 1.30542790e+00, -1.11022302e-16,  0.00000000e+00],\n",
       "       [ 1.41421356e+00, -1.11022302e-16,  0.00000000e+00],\n",
       "       [ 7.07106781e-01, -5.55111512e-17,  5.00000000e-01]])"
      ]
     },
     "execution_count": 68,
     "metadata": {},
     "output_type": "execute_result"
    }
   ],
   "source": [
    "ref_v_low"
   ]
  },
  {
   "cell_type": "code",
   "execution_count": 26,
   "metadata": {},
   "outputs": [
    {
     "data": {
      "image/png": "[encoded data removed]",
      "text/plain": [
       "<Figure size 432x288 with 1 Axes>"
      ]
     },
     "metadata": {
      "needs_background": "light"
     },
     "output_type": "display_data"
    }
   ],
   "source": [
    "ref_v_high = project_high_dim(ref_v_transformed, norm_fact)\n",
    "plt.scatter(ref_v_high[:,0],ref_v_high[:,1])\n",
    "#plt.ylim(-2,2)\n",
    "plt.show()"
   ]
  },
  {
   "cell_type": "code",
   "execution_count": 4,
   "metadata": {},
   "outputs": [
    {
     "data": {
      "image/png": "[encoded data removed]",
      "text/plain": [
       "<Figure size 432x288 with 1 Axes>"
      ]
     },
     "metadata": {
      "needs_background": "light"
     },
     "output_type": "display_data"
    }
   ],
   "source": [
    "import matplotlib.pyplot as plt\n",
    "\n",
    "plt.scatter(reference_vectors.initial_values[:,0],reference_vectors.initial_values[:,1])\n",
    "plt.show()"
   ]
  },
  {
   "cell_type": "code",
   "execution_count": 5,
   "metadata": {},
   "outputs": [
    {
     "data": {
      "image/png": "[encoded data removed]",
      "text/plain": [
       "<Figure size 432x288 with 1 Axes>"
      ]
     },
     "metadata": {
      "needs_background": "light"
     },
     "output_type": "display_data"
    }
   ],
   "source": [
    "plt.scatter(reference_vectors.initial_values_planar[:,0],reference_vectors.initial_values_planar[:,1])\n",
    "plt.show()"
   ]
  },
  {
   "cell_type": "code",
   "execution_count": 6,
   "metadata": {},
   "outputs": [],
   "source": [
    "ref_v = reference_vectors.initial_values_planar\n",
    "n_ref = np.shape(ref_v)[0]\n",
    "ref_v_translated = ref_v - np.tile([0,1],(n_ref,1))"
   ]
  },
  {
   "cell_type": "code",
   "execution_count": 7,
   "metadata": {},
   "outputs": [
    {
     "data": {
      "image/png": "[encoded data removed]",
      "text/plain": [
       "<Figure size 432x288 with 1 Axes>"
      ]
     },
     "metadata": {
      "needs_background": "light"
     },
     "output_type": "display_data"
    }
   ],
   "source": [
    "plt.scatter(ref_v_translated[:,0],ref_v_translated[:,1])\n",
    "plt.show()"
   ]
  },
  {
   "cell_type": "code",
   "execution_count": 8,
   "metadata": {},
   "outputs": [
    {
     "data": {
      "image/png": "[encoded data removed]",
      "text/plain": [
       "<Figure size 432x288 with 1 Axes>"
      ]
     },
     "metadata": {
      "needs_background": "light"
     },
     "output_type": "display_data"
    }
   ],
   "source": [
    "ref_v_rot = np.zeros((n_ref,2))\n",
    "ref_v_rot[:,0] = ref_v_translated[:,0]*np.cos(np.pi/4.) - ref_v_translated[:,1]*np.sin(np.pi/4.)\n",
    "ref_v_rot[:,1] = ref_v_translated[:,0]*np.sin(np.pi/4.) + ref_v_translated[:,1]*np.cos(np.pi/4.)\n",
    "plt.scatter(ref_v_rot[:,0],ref_v_rot[:,1])\n",
    "#plt.xlim(-0.2, 2)\n",
    "plt.ylim(-0.2, 1)\n",
    "plt.show()"
   ]
  },
  {
   "cell_type": "code",
   "execution_count": 9,
   "metadata": {},
   "outputs": [
    {
     "data": {
      "image/png": "[encoded data removed]",
      "text/plain": [
       "<Figure size 432x288 with 1 Axes>"
      ]
     },
     "metadata": {
      "needs_background": "light"
     },
     "output_type": "display_data"
    }
   ],
   "source": [
    "norm_fact = np.max(ref_v_rot[:,0])\n",
    "ref_v_rot[:,0] = ref_v_rot[:,0]/np.max(ref_v_rot[:,0])\n",
    "plt.scatter(ref_v_rot[:,0],ref_v_rot[:,1])\n",
    "#plt.xlim(-0.2, 2)\n",
    "plt.ylim(-0.2, 1)\n",
    "plt.show()"
   ]
  },
  {
   "cell_type": "code",
   "execution_count": 113,
   "metadata": {},
   "outputs": [
    {
     "data": {
      "image/png": "[encoded data removed]",
      "text/plain": [
       "<Figure size 432x288 with 1 Axes>"
      ]
     },
     "metadata": {
      "needs_background": "light"
     },
     "output_type": "display_data"
    }
   ],
   "source": [
    "from scipy.stats import norm\n",
    "ref_v_inv_rns = np.zeros((n_ref,2))\n",
    "ref_v_inv_rns[:,0] = norm.ppf(q=ref_v_rot[:,0],loc=1, scale=0.5)\n",
    "plt.scatter(ref_v_inv_rns[:,0],ref_v_inv_rns[:,1])\n",
    "#plt.xlim(, 1.2)\n",
    "plt.ylim(-0.2, 1)\n",
    "plt.show()"
   ]
  },
  {
   "cell_type": "code",
   "execution_count": 21,
   "metadata": {},
   "outputs": [
    {
     "data": {
      "image/png": "[encoded data removed]",
      "text/plain": [
       "<Figure size 432x288 with 1 Axes>"
      ]
     },
     "metadata": {
      "needs_background": "light"
     },
     "output_type": "display_data"
    }
   ],
   "source": [
    "from scipy.stats import skewnorm\n",
    "ref_v_inv_rns = np.zeros((n_ref,2))\n",
    "ref_v_inv_rns[:,0] = skewnorm.ppf(q=ref_v_rot[:,0],a=10,loc=0.1, scale=1)\n",
    "plt.scatter(ref_v_inv_rns[:,0],ref_v_inv_rns[:,1])\n",
    "#plt.xlim(, 1.2)\n",
    "plt.ylim(-0.2, 1)\n",
    "plt.show()"
   ]
  },
  {
   "cell_type": "code",
   "execution_count": null,
   "metadata": {},
   "outputs": [],
   "source": [
    "zz= ref_v_inv_rns[:,0]\n"
   ]
  },
  {
   "cell_type": "code",
   "execution_count": 22,
   "metadata": {},
   "outputs": [
    {
     "data": {
      "image/png": "[encoded data removed]",
      "text/plain": [
       "<Figure size 432x288 with 1 Axes>"
      ]
     },
     "metadata": {
      "needs_background": "light"
     },
     "output_type": "display_data"
    }
   ],
   "source": [
    "from scipy.stats import exponnorm\n",
    "ref_v_inv_rns = np.zeros((n_ref,2))\n",
    "ref_v_inv_rns[:,0] = exponnorm.ppf(q=ref_v_rot[:,0],K=10,loc=0.1, scale=1)\n",
    "plt.scatter(ref_v_inv_rns[:,0],ref_v_inv_rns[:,1])\n",
    "#plt.xlim(, 1.2)\n",
    "plt.ylim(-0.2, 1)\n",
    "plt.show()"
   ]
  },
  {
   "cell_type": "code",
   "execution_count": 42,
   "metadata": {},
   "outputs": [
    {
     "data": {
      "image/png": "[encoded data removed]",
      "text/plain": [
       "<Figure size 432x288 with 1 Axes>"
      ]
     },
     "metadata": {
      "needs_background": "light"
     },
     "output_type": "display_data"
    }
   ],
   "source": [
    "from scipy.stats import triang\n",
    "ref_v_inv_rns = np.zeros((n_ref,2))\n",
    "ref_v_inv_rns[:,0] = triang.ppf(q=ref_v_rot[:,0],c=0.8,loc=0, scale=1)\n",
    "plt.scatter(ref_v_inv_rns[:,0],ref_v_inv_rns[:,1])\n",
    "#plt.xlim(, 1.2)\n",
    "#plt.ylim(-0.2, 1)\n",
    "plt.show()"
   ]
  },
  {
   "cell_type": "code",
   "execution_count": 43,
   "metadata": {},
   "outputs": [
    {
     "data": {
      "image/png": "[encoded data removed]",
      "text/plain": [
       "<Figure size 432x288 with 1 Axes>"
      ]
     },
     "metadata": {
      "needs_background": "light"
     },
     "output_type": "display_data"
    }
   ],
   "source": [
    "ref_v_inv_rns[:,0] = ref_v_inv_rns[:,0]*norm_fact\n",
    "plt.scatter(ref_v_inv_rns[:,0],ref_v_inv_rns[:,1])\n",
    "#plt.xlim(, 1.2)\n",
    "plt.ylim(-1, 1)\n",
    "plt.show()"
   ]
  },
  {
   "cell_type": "code",
   "execution_count": 44,
   "metadata": {},
   "outputs": [
    {
     "data": {
      "image/png": "[encoded data removed]",
      "text/plain": [
       "<Figure size 432x288 with 1 Axes>"
      ]
     },
     "metadata": {
      "needs_background": "light"
     },
     "output_type": "display_data"
    }
   ],
   "source": [
    "ref_v_rot2 = np.zeros((n_ref,2))\n",
    "ref_v_rot2[:,0] = ref_v_inv_rns[:,0]*np.cos(-np.pi/4.) - ref_v_inv_rns[:,1]*np.sin(-np.pi/4.)\n",
    "ref_v_rot2[:,1] = ref_v_inv_rns[:,0]*np.sin(-np.pi/4.) + ref_v_inv_rns[:,1]*np.cos(-np.pi/4.)\n",
    "plt.scatter(ref_v_rot2[:,0],ref_v_rot2[:,1])\n",
    "plt.ylim(-1, 1)\n",
    "plt.show()"
   ]
  },
  {
   "cell_type": "code",
   "execution_count": 46,
   "metadata": {},
   "outputs": [
    {
     "data": {
      "image/png": "[encoded data removed]",
      "text/plain": [
       "<Figure size 432x288 with 1 Axes>"
      ]
     },
     "metadata": {
      "needs_background": "light"
     },
     "output_type": "display_data"
    }
   ],
   "source": [
    "ref_v_translated2 = ref_v_rot2 + np.tile([0,1],(n_ref,1))\n",
    "plt.scatter(ref_v_translated2[:,0],ref_v_translated2[:,1])\n",
    "plt.show()"
   ]
  },
  {
   "cell_type": "code",
   "execution_count": 141,
   "metadata": {},
   "outputs": [
    {
     "data": {
      "text/plain": [
       "0.5000000000000001"
      ]
     },
     "execution_count": 141,
     "metadata": {},
     "output_type": "execute_result"
    }
   ],
   "source": [
    "np.median(ref_v_inv_rns[:,0])"
   ]
  },
  {
   "cell_type": "code",
   "execution_count": 109,
   "metadata": {},
   "outputs": [
    {
     "data": {
      "text/plain": [
       "1.1909938945983878"
      ]
     },
     "execution_count": 109,
     "metadata": {},
     "output_type": "execute_result"
    }
   ],
   "source": [
    "x=ref_v_inv_rns[:,0]\n",
    "nan_array = np.isinf(x)\n",
    "\n",
    "not_nan_array = ~ nan_array\n",
    "\n",
    "array2 = x[not_nan_array]\n",
    "np.mean(array2)\n",
    "#array2"
   ]
  },
  {
   "cell_type": "code",
   "execution_count": null,
   "metadata": {},
   "outputs": [],
   "source": []
  }
 ],
 "metadata": {
  "interpreter": {
   "hash": "028c7f87acfbdb178a7022a58eb44a108388aec1adf9f33da0988a40eb97b9af"
  },
  "kernelspec": {
   "display_name": "Python 3.8.10 ('Offline_IMOEA_Framework')",
   "language": "python",
   "name": "python3"
  },
  "language_info": {
   "codemirror_mode": {
    "name": "ipython",
    "version": 3
   },
   "file_extension": ".py",
   "mimetype": "text/x-python",
   "name": "python",
   "nbconvert_exporter": "python",
   "pygments_lexer": "ipython3",
   "version": "3.8.10"
  },
  "orig_nbformat": 4
 },
 "nbformat": 4,
 "nbformat_minor": 2
}
