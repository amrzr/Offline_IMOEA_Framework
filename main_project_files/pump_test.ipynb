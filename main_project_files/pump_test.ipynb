{
 "metadata": {
  "language_info": {
   "codemirror_mode": {
    "name": "ipython",
    "version": 3
   },
   "file_extension": ".py",
   "mimetype": "text/x-python",
   "name": "python",
   "nbconvert_exporter": "python",
   "pygments_lexer": "ipython3",
   "version": 3
  },
  "orig_nbformat": 2
 },
 "nbformat": 4,
 "nbformat_minor": 2,
 "cells": [
  {
   "cell_type": "code",
   "execution_count": null,
   "metadata": {},
   "outputs": [],
   "source": [
    "import plotly.graph_objects as go\n",
    "import matplotlib.pyplot as plt\n",
    "import numpy as np\n",
    "import pandas as pd\n",
    "from main_project_files.surrogate_fullGP import FullGPRegressor as fgp\n",
    "from BIOMA_framework import interactive_optimize\n",
    "\n",
    "max_samples = 50\n",
    "max_iters = 5\n",
    "gen_per_iter=100\n",
    "data_folder = '/home/amrzr/Work/Codes/data'"
   ]
  }
 ]
}