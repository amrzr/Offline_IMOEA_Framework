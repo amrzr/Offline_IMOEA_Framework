{
 "cells": [
  {
   "cell_type": "code",
   "execution_count": 18,
   "metadata": {},
   "outputs": [],
   "source": [
    "import sys\n",
    "sys.path.insert(1, '/home/amrzr/Work/Codes/Offline_IMOEA_Framework/')\n",
    "import main_project_files.plotting_tools.plot3d_confidence_v2 as plt_int3\n",
    "import pandas as pd\n",
    "import numpy as np\n",
    "from plotly.offline.offline import plot\n",
    "import plotly_express as ex\n",
    "import pickle\n",
    "import csv\n",
    "from other_tools.non_domx import ndx\n",
    "from pygmo import hypervolume as hv\n",
    "from scipy.spatial import distance"
   ]
  },
  {
   "cell_type": "code",
   "execution_count": 34,
   "metadata": {},
   "outputs": [],
   "source": [
    "data_folder = '/home/amrzr/Work/Codes/data/test_runs/'\n",
    "main_directory = 'Offline_Pump_simulations_results'  # 487 samples\n",
    "\n",
    "main_directory2 = 'Pump_test_04_DOE_prob_only_run1'  # 487 samples\n",
    "#main_directory2 = 'Pump_test_04_DOE_probclass_v1_run1'  # 487 samples\n",
    "#main_directory2 = 'Pump_test_04_DOE_probclass_v2_run2'  # 487 samples\n",
    "#main_directory2 = 'Pump_test_04_DOE_generic_run1'  # 487 samples\n",
    "\n",
    "data_folder1 = data_folder + main_directory\n",
    "data_folder2 = data_folder + main_directory2\n",
    "\n",
    "\n",
    "#data_file = data_folder1+'/DOE4v2_dv_surr_cfd.csv'\n",
    "data_file = data_folder1+'/DOE04probonly_dv_surr_cfd.csv'\n",
    "#data_file = data_folder1+'/DOE04generic_dv_surr_cfd.csv'\n",
    "data_file_run = data_folder2+'/OBJ.csv'\n",
    "\n",
    "\n",
    "df = pd.read_csv(data_file)\n",
    "df_run = pd.read_csv(data_file_run)\n",
    "y_data_surrogate_success = -df.values[:,23:26]\n",
    "y_data_success = -df.values[:,26:30]\n",
    "data_surrogate_rows = df_run.shape[0]-1\n",
    "ref = [-50,-50,-50]"
   ]
  },
  {
   "cell_type": "code",
   "execution_count": 35,
   "metadata": {},
   "outputs": [
    {
     "name": "stdout",
     "output_type": "stream",
     "text": [
      "No. of non-dominated solutions: 4\n",
      "Hypervolume: 53697.94347762654\n",
      "MV-RMSE: 10.032170877436185\n",
      "Success ratio: 0.20512820512820512\n"
     ]
    }
   ],
   "source": [
    "if np.shape(y_data_success)[0] > 1:\n",
    "    non_dom_front = ndx(y_data_success)\n",
    "    actual_objectives_nds = y_data_success[non_dom_front[0][0]]\n",
    "elif np.shape(y_data_success)[0] == 1:\n",
    "    actual_objectives_nds = y_data_success.reshape(1, 3)\n",
    "else:\n",
    "    actual_objectives_nds = None\n",
    "    hv_x = 0\n",
    "    success_ratio_temp = 0\n",
    "\n",
    "solution_ratio = 0\n",
    "if actual_objectives_nds is not None:\n",
    "    print(\"No. of non-dominated solutions:\", np.shape(actual_objectives_nds)[0])                    \n",
    "    hyp = hv(actual_objectives_nds)\n",
    "    hv_x = hyp.compute(ref)\n",
    "    print(\"Hypervolume:\",hv_x)\n",
    "    \n",
    "\n",
    "    ##### RMSE\n",
    "    rmse_mv_sols = 0\n",
    "    for i in range(np.shape(y_data_surrogate_success)[0]):\n",
    "        rmse_mv_sols += distance.euclidean(y_data_surrogate_success[i,:],y_data_success[i,:])\n",
    "    rmse_mv_sols = rmse_mv_sols/np.shape(y_data_surrogate_success)[0]\n",
    "    print(\"MV-RMSE:\", rmse_mv_sols)\n",
    "    ##### Success ratio\n",
    "    success_ratio_temp = np.shape(y_data_surrogate_success)[0] / data_surrogate_rows\n",
    "    print(\"Success ratio:\", success_ratio_temp)"
   ]
  }
 ],
 "metadata": {
  "kernelspec": {
   "display_name": "Python 3.8.10 ('Offline_IMOEA_Framework')",
   "language": "python",
   "name": "python3"
  },
  "language_info": {
   "codemirror_mode": {
    "name": "ipython",
    "version": 3
   },
   "file_extension": ".py",
   "mimetype": "text/x-python",
   "name": "python",
   "nbconvert_exporter": "python",
   "pygments_lexer": "ipython3",
   "version": "3.8.10"
  },
  "orig_nbformat": 4,
  "vscode": {
   "interpreter": {
    "hash": "028c7f87acfbdb178a7022a58eb44a108388aec1adf9f33da0988a40eb97b9af"
   }
  }
 },
 "nbformat": 4,
 "nbformat_minor": 2
}
