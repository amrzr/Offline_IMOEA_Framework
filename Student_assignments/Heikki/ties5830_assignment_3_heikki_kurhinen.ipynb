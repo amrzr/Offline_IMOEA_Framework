{
 "cells": [
  {
   "cell_type": "markdown",
   "id": "d3ea15b4",
   "metadata": {},
   "source": [
    "# TIES5830 Assignment 3\n",
    "\n",
    "### Author: Heikki Kurhinen\n",
    "\n",
    "## Task 1\n",
    "Use EI and the mean prediction to solve any single objective benchmark problem (e.g.\n",
    "Ackley, Rosenblock, sphere etc.) with any single objective optimizer (preferably GA). Set\n",
    "max exact function evaluations to 50 (start with 50 design points)."
   ]
  },
  {
   "cell_type": "code",
   "execution_count": 24,
   "id": "b82dd3b9",
   "metadata": {},
   "outputs": [
    {
     "name": "stdout",
     "output_type": "stream",
     "text": [
      "Optimization done with input: [0.72175605 0.52372846 0.27457562] and function value: 0.3050444878027309\n",
      "Optimization done with input: [-0.01070371 -0.00159543  0.02583271] and function value: 2.0917275416643277\n",
      "Optimization done with input: [0.83574628 0.70132436 0.49058893] and function value: 0.11716062125461887\n",
      "Optimization done with input: [-0.5152896   0.27527332  0.07040997] and function value: 2.8337162706920687\n",
      "Optimization done with input: [0.5124606  0.26095468 0.06277761] and function value: 0.786988555117887\n",
      "Optimization done with input: [0.18874475 0.04636399 0.00182365] and function value: 1.5791008448813093\n",
      "Optimization done with input: [0.78666566 0.62394406 0.38291281] and function value: 0.19361937199006923\n",
      "Optimization done with input: [0.69621391 0.58205018 0.29107738] and function value: 1.4419820247188937\n",
      "Optimization done with input: [0.51200736 0.27460124 0.06661271] and function value: 0.7875716100036051\n",
      "Optimization done with input: [-0.51117699  0.27515324  0.05776362] and function value: 2.8604494076860085\n"
     ]
    }
   ],
   "source": [
    "from sklearn.gaussian_process import GaussianProcessRegressor\n",
    "from scipy.optimize import rosen, minimize\n",
    "import numpy as np\n",
    "\n",
    "# Helper function to build suitable function for minimization using provided surrogate\n",
    "def surrogate_f(surrogate):\n",
    "    return lambda a : surrogate.predict([a])[0]\n",
    "\n",
    "# Perform optimization by using Kriging surrogates mean prediction as objective\n",
    "def mean_prediction(f, n_initial_points, n_eval):\n",
    "    xs = np.random.uniform(low=-2, high=2, size=(n_initial_points,3))\n",
    "    ys = [f(x) for x in xs]\n",
    "    surrogate = GaussianProcessRegressor()\n",
    "    surrogate.fit(xs, ys)\n",
    "    f_sur = surrogate_f(surrogate)\n",
    "    x = None\n",
    "    for i in range(n_eval):\n",
    "        res = minimize(f_sur, (0, 0, 0), method='L-BFGS-B', bounds=((-2, 2), (-2, 2), (-2, 2)))\n",
    "        x = res.x\n",
    "        xs = np.append(xs, [res.x], axis=0)\n",
    "        ys = np.append(ys, f(res.x))\n",
    "        surrogate = GaussianProcessRegressor()\n",
    "        surrogate.fit(xs, ys)\n",
    "        f_sur = surrogate_f(surrogate)\n",
    "    print(f\"Optimization done with input: {x} and function value: {f(x)}\")\n",
    "\n",
    "for n in range(10):\n",
    "    mean_prediction(rosen, 50, 50)"
   ]
  },
  {
   "cell_type": "code",
   "execution_count": 32,
   "id": "2f501000",
   "metadata": {},
   "outputs": [
    {
     "name": "stdout",
     "output_type": "stream",
     "text": [
      "Optimization done with input: [-0.9297672229499037, 0.9380217815948417, 0.35017746101632996] and function value: 32.32786526124202\n",
      "Optimization done with input: [-0.6113056646627018, 0.09210607156188688, -0.2272931540348968] and function value: 16.908852545238418\n",
      "Optimization done with input: [-0.46060346535706964, -0.03202183140796899, -0.29342842477800524] and function value: 17.83099637131972\n",
      "Optimization done with input: [-0.11655574262603352, -0.046538071051179575, 0.47890989366119596] and function value: 25.431913768847245\n",
      "Optimization done with input: [-0.7162045302879478, 0.46542727847875964, 1.172265811713185] and function value: 94.78236078227212\n",
      "Optimization done with input: [-0.365762190849384, -0.06029641133733499, 0.10523813741730592] and function value: 7.7884834483741505\n",
      "Optimization done with input: [-0.372435476254954, 0.7959666576803115, 1.0851804868752102] and function value: 65.51992152572898\n",
      "Optimization done with input: [0.6064671404206288, 0.800846615707473, 0.3602686644077613] and function value: 26.84822989229074\n",
      "Optimization done with input: [0.6226050114675132, 0.38226149919063257, 0.6188810624546894] and function value: 22.876855270925443\n",
      "Optimization done with input: [0.008788586635780415, -0.2648085805942806, 0.11764268350486606] and function value: 9.824497045642437\n"
     ]
    }
   ],
   "source": [
    "# Use Bayesian optimization using Gaussian Processes from scikit-optimize\n",
    "from skopt import gp_minimize\n",
    "\n",
    "def expected_improvement(f, n_initial_points, n_eval):\n",
    "    res = gp_minimize(f,\n",
    "                      [(-2.0, 2.0), (-2.0, 2.0), (-2.0, 2.0)],\n",
    "                      acq_func=\"EI\",\n",
    "                      n_initial_points=n_initial_points,\n",
    "                      n_calls=n_eval)\n",
    "    print(f\"Optimization done with input: {res.x} and function value: {f(res.x)}\")\n",
    "\n",
    "for n in range(10):\n",
    "    expected_improvement(rosen, 50, 50)"
   ]
  },
  {
   "cell_type": "markdown",
   "id": "110ea811",
   "metadata": {},
   "source": [
    "## Was the solutions found by EI better?\n",
    "\n",
    "No, I implemented mean prediction and used Bayesian optimization using Gaussian Processes from scikit-optimize where I used the EI as acquisition function. I tested both methods while optimizing Rosenbrock function with 3 input parameters and bounds from -2 to 2 for each of the parameters.\n",
    "\n",
    "With 10 test runs on both methods, they achieved average function values of:\n",
    "- Mean prediction: 1.30\n",
    "- EI: 32.01"
   ]
  },
  {
   "cell_type": "markdown",
   "id": "3570352a",
   "metadata": {},
   "source": [
    "## Task 2\n",
    "Solve any benchmark problems (K=2 and 5, n=10) with ParEGO and LCB. Start with 109\n",
    "design points. Compare the hypervolume of the solutions after 100 exact function\n",
    "evaluations."
   ]
  },
  {
   "cell_type": "code",
   "execution_count": 111,
   "id": "e5d913ec",
   "metadata": {},
   "outputs": [],
   "source": [
    "from desdeo_problem.testproblems.TestProblems import test_problem_builder\n",
    "from scipy.stats import qmc, norm\n",
    "\n",
    "# Method for generating samples using LHS-sampling\n",
    "def lhs(d, count):\n",
    "    sampler = qmc.LatinHypercube(d=d)\n",
    "    sample = sampler.random(n=count)\n",
    "    return sample"
   ]
  },
  {
   "cell_type": "code",
   "execution_count": 114,
   "id": "4a87bde7",
   "metadata": {},
   "outputs": [],
   "source": [
    "# Scalarization method for use with parEGO\n",
    "def scalarize(n_objectives, ys, rho):\n",
    "    theta = np.random.random_sample((n_objectives))\n",
    "    sum_theta = np.sum(theta)\n",
    "    theta = theta / sum_theta\n",
    "\n",
    "    theta_f = theta * ys\n",
    "    max_k = np.max(theta_f, axis = 1)\n",
    "    rho_sum_theta_f = rho * np.sum(theta_f, axis = 1)\n",
    "    f_theta = max_k + rho_sum_theta_f\n",
    "    return f_theta"
   ]
  },
  {
   "cell_type": "code",
   "execution_count": 131,
   "id": "1a67718e",
   "metadata": {},
   "outputs": [],
   "source": [
    "# Objective function builder for parEGO\n",
    "def build_obj(model, xs, f_theta, xi):\n",
    "    def obj(x):\n",
    "        if np.any(np.all(xs == x, axis=1)):\n",
    "            return 1.0e5\n",
    "        else:\n",
    "            mean, std = model.predict(np.atleast_2d(x), return_std=True)\n",
    "            current_max = f_theta.max()\n",
    "            Z = (current_max - mean[0] - xi) / std\n",
    "            ei = (-1) * (Z * std) * norm.cdf(Z) + std * norm.pdf(Z)\n",
    "            return ei\n",
    "    return obj\n",
    "\n",
    "# Expected improvement for parEGO\n",
    "def EI(xs, f_theta, bounds, xi):\n",
    "    model = GaussianProcessRegressor()\n",
    "    model.fit(xs, f_theta)\n",
    "    obj = build_obj(model, xs, f_theta, xi)\n",
    "    res = minimize(obj, np.zeros(len(bounds)), method='L-BFGS-B', bounds=bounds)\n",
    "    return res\n",
    "\n",
    "# parEGO algorithm\n",
    "def parEGO(problem_name, n_of_objectives, n_of_variables):\n",
    "    p = test_problem_builder(problem_name, n_of_objectives=n_of_objectives, n_of_variables=n_of_variables)\n",
    "    f = lambda a : p.evaluate(a).objectives[0]\n",
    "    initial_num = 109\n",
    "    max_iter = 100\n",
    "    bounds = [[0, 1] for _ in range(n_of_variables)]\n",
    "    xs = lhs(n_of_variables, initial_num)\n",
    "    ys = np.array([f(xs[i]) for i in range(initial_num)])\n",
    "    rho = 0.05\n",
    "    xi = 0\n",
    "    res_x = np.empty((1, n_of_variables))\n",
    "    res_y = np.empty((1, n_of_objectives))\n",
    "    for i in range(max_iter):\n",
    "        f_theta = scalarize(ys.shape[1], ys, rho)\n",
    "        res = EI(xs, f_theta, bounds, xi)\n",
    "        xs = np.append(xs, [res.x], axis=0)\n",
    "        res_x = np.append(res_x, [res.x], axis=0)\n",
    "        next_y = f(res.x)\n",
    "        ys = np.append(ys, [next_y], axis=0)\n",
    "        res_y = np.append(res_y, [next_y], axis=0)\n",
    "    return res_x, res_y"
   ]
  },
  {
   "cell_type": "code",
   "execution_count": 135,
   "id": "d38058b8",
   "metadata": {},
   "outputs": [
    {
     "data": {
      "image/png": "[encoded data removed]",
      "text/plain": [
       "<Figure size 432x288 with 1 Axes>"
      ]
     },
     "metadata": {
      "needs_background": "light"
     },
     "output_type": "display_data"
    }
   ],
   "source": [
    "from desdeo_tools.utilities.quality_indicator import hypervolume_indicator\n",
    "import matplotlib.pyplot as plt\n",
    "\n",
    "# Approximates the reference point (slighty worse than nadir)\n",
    "def calculateReferencePoint(nadir):\n",
    "    return nadir + 0.0001\n",
    "\n",
    "# Calculates hypervolume for given front, uses point which is slighty worse than nadir\n",
    "# as reference point\n",
    "def calculateHypervolume(front):\n",
    "    nadir = np.max(front, axis=0)\n",
    "    ref = calculateReferencePoint(nadir)\n",
    "    return hypervolume_indicator(front, ref)\n",
    "\n",
    "# Helper function to draw plots\n",
    "def plotFront(data, title):\n",
    "    plt.scatter(data[:,0],data[:,1])\n",
    "    plt.title(title)\n",
    "    plt.show()\n",
    "    \n",
    "_, dtlz2ParEGOFront = parEGO(\"DTLZ2\", 2, 10)\n",
    "_, dtlz5ParEGOFront = parEGO(\"DTLZ5\", 5, 10)\n",
    "plotFront(dtlz2ParEGOFront, \"parEGO DTLZ2\")"
   ]
  },
  {
   "cell_type": "code",
   "execution_count": 136,
   "id": "fb2ab42d",
   "metadata": {},
   "outputs": [
    {
     "name": "stdout",
     "output_type": "stream",
     "text": [
      "Hypervolume for parEGO algorithm with DTLZ2 test problem: 7.5077833583845415\n",
      "Hypervolume for parEGO algorithm with DTLZ5 test problem: 2.2195163779437426\n"
     ]
    }
   ],
   "source": [
    "print(f\"Hypervolume for parEGO algorithm with DTLZ2 test problem: {calculateHypervolume(dtlz2ParEGOFront)}\")\n",
    "print(f\"Hypervolume for parEGO algorithm with DTLZ5 test problem: {calculateHypervolume(dtlz5ParEGOFront)}\")"
   ]
  },
  {
   "cell_type": "markdown",
   "id": "e6438321",
   "metadata": {},
   "source": [
    "Hypervolumes for test problems with parEGO algorithm were:\n",
    "- DTLZ2: 7.5077833583845415\n",
    "- DTLZ5: 2.2195163779437426\n",
    "\n",
    "Unfortunately I couldn't figure out working method on extending the LCB based optimization to multiobjective problems."
   ]
  },
  {
   "cell_type": "code",
   "execution_count": null,
   "id": "3b9d3569",
   "metadata": {},
   "outputs": [],
   "source": []
  }
 ],
 "metadata": {
  "kernelspec": {
   "display_name": "Python 3 (ipykernel)",
   "language": "python",
   "name": "python3"
  },
  "language_info": {
   "codemirror_mode": {
    "name": "ipython",
    "version": 3
   },
   "file_extension": ".py",
   "mimetype": "text/x-python",
   "name": "python",
   "nbconvert_exporter": "python",
   "pygments_lexer": "ipython3",
   "version": "3.8.5"
  }
 },
 "nbformat": 4,
 "nbformat_minor": 5
}
