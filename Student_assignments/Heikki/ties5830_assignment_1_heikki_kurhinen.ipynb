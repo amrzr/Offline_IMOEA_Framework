{
 "cells": [
  {
   "cell_type": "markdown",
   "metadata": {},
   "source": [
    "# TIES5830 Assignment 1\n",
    "\n",
    "#### Author: Heikki Kurhinen\n",
    "\n",
    "#### Task:\n",
    "\n",
    "Solve two benchmark problems with 2 and 5 number of objectives and 10 decision variables from the DTLZ family having a) degenerate and b) disconnected Pareto front. Use RVEA and NSGA-III to solve the defined MOPs by running them for 1000 generations (and 100 generations/iteration).\n",
    "\n",
    "● Calculate the hypervolume of the solutions from all the different combinations of problem instances and MOEAs.\n",
    "\n",
    "● Plot the final solutions for the bi-objective cases for comparing them visually.\n",
    "\n",
    "Submit a jupyter notebook or pdf containing codes, plots and table. Add short descriptions as well."
   ]
  },
  {
   "cell_type": "markdown",
   "metadata": {},
   "source": [
    "#### Solution:\n",
    "\n",
    "I selected the following DTLZ test problems:\n",
    "\n",
    "- DTLZ5 (Degenerate)\n",
    "- DTLZ7 (Disconnected)"
   ]
  },
  {
   "cell_type": "code",
   "execution_count": 8,
   "metadata": {},
   "outputs": [],
   "source": [
    "# Import required packages\n",
    "import numpy as np\n",
    "from desdeo_problem.testproblems import test_problem_builder\n",
    "from desdeo_emo.EAs import NSGAIII\n",
    "from desdeo_emo.EAs import RVEA\n",
    "from desdeo_tools.utilities.quality_indicator import hypervolume_indicator\n",
    "import plotly.graph_objects as go\n",
    "import matplotlib.pyplot as plt\n"
   ]
  },
  {
   "cell_type": "code",
   "execution_count": 20,
   "metadata": {},
   "outputs": [],
   "source": [
    "# Define some helper functions\n",
    "\n",
    "# Runs evolver until it reaches stopping condition\n",
    "def runEA(evolver):\n",
    "    i = 0\n",
    "    while evolver.continue_evolution():\n",
    "        i = i+1\n",
    "        evolver.iterate()\n",
    "    print(f\"EA done after: {i} generations\")\n",
    "    return evolver.end()\n",
    "\n",
    "# Solves given multiobjective optimization problem using NSGAIII algorithm\n",
    "def solveWithNSGAIII(problem):\n",
    "    evolver = NSGAIII(problem,\n",
    "                      interact=False,\n",
    "                      n_iterations=1000,\n",
    "                      n_gen_per_iter=100,\n",
    "                      population_size=20)\n",
    "    \n",
    "    return runEA(evolver)\n",
    "\n",
    "# Solves given multiobjective optimization problem using RVEA algorithm\n",
    "def solveWithRVEA(problem):\n",
    "    evolver = RVEA(problem,\n",
    "                   interact=False,\n",
    "                   n_iterations=1000,\n",
    "                   n_gen_per_iter=100,\n",
    "                   population_size=20)\n",
    "    \n",
    "    return runEA(evolver)\n",
    "\n",
    "# Approximates the reference point (slighty worse than nadir)\n",
    "def calculateReferencePoint(nadir):\n",
    "    return nadir + 0.0001\n",
    "\n",
    "# Calculates hypervolume for given front, uses point which is slighty worse than nadir\n",
    "# as reference point\n",
    "def calculateHypervolume(front):\n",
    "    nadir = np.max(front, axis=0)\n",
    "    ref = calculateReferencePoint(nadir)\n",
    "    return hypervolume_indicator(front, ref)"
   ]
  },
  {
   "cell_type": "code",
   "execution_count": 6,
   "metadata": {},
   "outputs": [],
   "source": [
    "# Create test problems using Desdeo's test problem builder\n",
    "dtlz5with2objectives = test_problem_builder(\"DTLZ5\", 10, 2)\n",
    "dtlz5with5objectives = test_problem_builder(\"DTLZ5\", 10, 5)\n",
    "\n",
    "dtlz7with2objectives = test_problem_builder(\"DTLZ7\", 10, 2)\n",
    "dtlz7with5objectives = test_problem_builder(\"DTLZ7\", 10, 5)"
   ]
  },
  {
   "cell_type": "code",
   "execution_count": 47,
   "metadata": {},
   "outputs": [
    {
     "name": "stdout",
     "output_type": "stream",
     "text": [
      "EA done after: 1000 generations\n",
      "EA done after: 1000 generations\n",
      "EA done after: 1000 generations\n",
      "EA done after: 1000 generations\n",
      "EA done after: 1000 generations\n",
      "EA done after: 1000 generations\n",
      "EA done after: 1000 generations\n",
      "EA done after: 1000 generations\n"
     ]
    }
   ],
   "source": [
    "#Compute solutions to DTLZ5 problems using NSGAIII and RVEA algorithms\n",
    "_, dtlz5BiObjectiveNSGAIIIFront = solveWithNSGAIII(dtlz5with2objectives)\n",
    "_, dtlz5FiveObjectiveNSGAIIIFront = solveWithNSGAIII(dtlz5with5objectives)\n",
    "_, dtlz5BiObjectiveRVEAFront = solveWithRVEA(dtlz5with2objectives)\n",
    "_, dtlz5FiveObjectiveRVEAFront = solveWithRVEA(dtlz5with5objectives)\n",
    "\n",
    "#Compute solutions to DTLZ7 problems using NSGAIII and RVEA algorithms\n",
    "_, dtlz7BiObjectiveNSGAIIIFront = solveWithNSGAIII(dtlz7with2objectives)\n",
    "_, dtlz7FiveObjectiveNSGAIIIFront = solveWithNSGAIII(dtlz7with5objectives)\n",
    "_, dtlz7BiObjectiveRVEAFront = solveWithRVEA(dtlz7with2objectives)\n",
    "_, dtlz7FiveObjectiveRVEAFront = solveWithRVEA(dtlz7with5objectives)\n"
   ]
  },
  {
   "cell_type": "code",
   "execution_count": 48,
   "metadata": {},
   "outputs": [
    {
     "name": "stdout",
     "output_type": "stream",
     "text": [
      "DTLZ5 (Degenerate), 2 Obj, 10 Var, Hv (NSGAIII) 0.09309441298263217, Hv (RVEA) 0.20584404834832679\n",
      "DTLZ5 (Degenerate), 5 Obj, 10 Var, Hv (NSGAIII) 0.12235581463091469, Hv (RVEA) 3.2429765712735072\n",
      "DTLZ7 (Disconnected), 2 Obj, 10 Var, Hv (NSGAIII) 0.5053433328969864, Hv (RVEA) 0.4807386382709738\n",
      "DTLZ7 (Disconnected), 5 Obj, 10 Var, Hv (NSGAIII) 0.006418788041460241, Hv (RVEA) 1.471271589734619\n"
     ]
    }
   ],
   "source": [
    "print(f\"DTLZ5 (Degenerate), 2 Obj, 10 Var, Hv (NSGAIII) {calculateHypervolume(dtlz5BiObjectiveNSGAIIIFront)}, Hv (RVEA) {calculateHypervolume(dtlz5BiObjectiveRVEAFront)}\")\n",
    "print(f\"DTLZ5 (Degenerate), 5 Obj, 10 Var, Hv (NSGAIII) {calculateHypervolume(dtlz5FiveObjectiveNSGAIIIFront)}, Hv (RVEA) {calculateHypervolume(dtlz5FiveObjectiveRVEAFront)}\")\n",
    "print(f\"DTLZ7 (Disconnected), 2 Obj, 10 Var, Hv (NSGAIII) {calculateHypervolume(dtlz7BiObjectiveNSGAIIIFront)}, Hv (RVEA) {calculateHypervolume(dtlz7BiObjectiveRVEAFront)}\")\n",
    "print(f\"DTLZ7 (Disconnected), 5 Obj, 10 Var, Hv (NSGAIII) {calculateHypervolume(dtlz7FiveObjectiveNSGAIIIFront)}, Hv (RVEA) {calculateHypervolume(dtlz7FiveObjectiveRVEAFront)}\")"
   ]
  },
  {
   "cell_type": "markdown",
   "metadata": {},
   "source": [
    "#### Results:\n",
    "\n",
    "| Pareto front type | Objectives (K) | Decision variables (n) | Hypervolume (NSGA-III) | Hypervolume (RVEA) |\n",
    "|---|---|---|---|---|\n",
    "| Degenerate (DTLZ5) | 2 | 10 | 0.0931 | 0.2058 |\n",
    "| Degenerate (DTLZ5) | 5 | 10 | 0.1224 | 3.2430 |\n",
    "| Disconnected (DTLZ5) | 2 | 10 | 0.5053 | 0.4807 |\n",
    "| Disconnected (DTLZ5) |  5 | 10 | 0.0064 | 1.4713 |"
   ]
  },
  {
   "cell_type": "code",
   "execution_count": 9,
   "metadata": {},
   "outputs": [],
   "source": [
    "# Helper function to draw plots\n",
    "def plotFront(data, title):\n",
    "    plt.scatter(data[:,0],data[:,1])\n",
    "    plt.title(title)\n",
    "    plt.show()"
   ]
  },
  {
   "cell_type": "markdown",
   "metadata": {},
   "source": [
    "Plot values of all the bi-objective cases:"
   ]
  },
  {
   "cell_type": "code",
   "execution_count": 16,
   "metadata": {},
   "outputs": [
    {
     "data": {
      "image/png": "[encoded data removed]",
      "text/plain": [
       "<Figure size 432x288 with 1 Axes>"
      ]
     },
     "metadata": {
      "needs_background": "light"
     },
     "output_type": "display_data"
    }
   ],
   "source": [
    "plotFront(dtlz5BiObjectiveNSGAIIIFront, \"DTLZ5 2 Obj (NSGAIII)\")"
   ]
  },
  {
   "cell_type": "code",
   "execution_count": 17,
   "metadata": {},
   "outputs": [
    {
     "data": {
      "image/png": "[encoded data removed]",
      "text/plain": [
       "<Figure size 432x288 with 1 Axes>"
      ]
     },
     "metadata": {
      "needs_background": "light"
     },
     "output_type": "display_data"
    }
   ],
   "source": [
    "plotFront(dtlz5BiObjectiveRVEAFront, \"DTLZ5 2 Obj (RVEA)\")"
   ]
  },
  {
   "cell_type": "code",
   "execution_count": 18,
   "metadata": {},
   "outputs": [
    {
     "data": {
      "image/png": "[encoded data removed]",
      "text/plain": [
       "<Figure size 432x288 with 1 Axes>"
      ]
     },
     "metadata": {
      "needs_background": "light"
     },
     "output_type": "display_data"
    }
   ],
   "source": [
    "plotFront(dtlz7BiObjectiveNSGAIIIFront, \"DTLZ7 2 Obj (NSGAIII)\")"
   ]
  },
  {
   "cell_type": "code",
   "execution_count": 19,
   "metadata": {},
   "outputs": [
    {
     "data": {
      "image/png": "[encoded data removed]",
      "text/plain": [
       "<Figure size 432x288 with 1 Axes>"
      ]
     },
     "metadata": {
      "needs_background": "light"
     },
     "output_type": "display_data"
    }
   ],
   "source": [
    "plotFront(dtlz7BiObjectiveRVEAFront, \"DTLZ7 2 Obj (RVEA)\")"
   ]
  },
  {
   "cell_type": "code",
   "execution_count": null,
   "metadata": {},
   "outputs": [],
   "source": []
  }
 ],
 "metadata": {
  "kernelspec": {
   "display_name": "Python 3",
   "language": "python",
   "name": "python3"
  },
  "language_info": {
   "codemirror_mode": {
    "name": "ipython",
    "version": 3
   },
   "file_extension": ".py",
   "mimetype": "text/x-python",
   "name": "python",
   "nbconvert_exporter": "python",
   "pygments_lexer": "ipython3",
   "version": "3.8.5"
  }
 },
 "nbformat": 4,
 "nbformat_minor": 4
}
