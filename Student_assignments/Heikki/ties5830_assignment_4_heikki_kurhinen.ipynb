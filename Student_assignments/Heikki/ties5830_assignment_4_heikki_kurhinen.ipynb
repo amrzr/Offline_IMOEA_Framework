{
 "cells": [
  {
   "cell_type": "markdown",
   "id": "b1c0a033",
   "metadata": {},
   "source": [
    "# TIES5830 Assignment 4\n",
    "\n",
    "#### Author: Heikki Kurhinen\n",
    "\n",
    "### Task 1:\n",
    "\n",
    "Implement probability of selection for single objective optimization. * (refer eqn.\n",
    "12, 13, 14)"
   ]
  },
  {
   "cell_type": "code",
   "execution_count": 5,
   "id": "1f43df17",
   "metadata": {},
   "outputs": [],
   "source": [
    "import numpy as np\n",
    "\n",
    "# Calculates probability of selection\n",
    "def probability_of_selection(x, oa, ob):\n",
    "    A = x[0]\n",
    "    B = x[1]\n",
    "    m = (A - B) / ob\n",
    "    s = oa / ob\n",
    "    return 1 / (1 + np.exp(-1 * ((2.5*m)/np.sqrt(2+2*s**2))))"
   ]
  },
  {
   "cell_type": "markdown",
   "id": "f7dd05be",
   "metadata": {},
   "source": [
    "### Task 2:\n",
    "\n",
    "- Implement probability of dominance and ranking. * (refer eqn. 15, 17, 18, 22)\n",
    " - Generate 50 samples from DTLZ2 problem (3 objectives, 5 decision variables) using LHS sampling\n",
    " - Build Kriging surrogates using the generated samples\n",
    " - Resample or generate 20 data points randomly\n",
    " - Rank the 20 points using probability of dominance ranking"
   ]
  },
  {
   "cell_type": "code",
   "execution_count": 12,
   "id": "c342e6d3",
   "metadata": {},
   "outputs": [
    {
     "name": "stdout",
     "output_type": "stream",
     "text": [
      "2.000965230651306 2.2729855480934447\n",
      "1.7499981366803579 1.6450100785787027\n",
      "1.4999981366873019 1.4183256906614985\n",
      "1.500967093970948 1.9193591599019593\n",
      "3.249999999993056 3.217716064256361\n",
      "4.99807140201703 4.526603458508033\n"
     ]
    }
   ],
   "source": [
    "# Calculates probability of dominance\n",
    "# returns both P(A>B) and P(A<B)\n",
    "def probability_of_dominance(A, B, sigma):\n",
    "    pos = lambda x : probability_of_selection(x, sigma, sigma)\n",
    "    pairs = np.column_stack((A, B))\n",
    "    aqtb = np.array(list(map(pos, pairs)))\n",
    "    bqta = np.array(list(map(lambda p: 1 - p, aqtb)))\n",
    "    return np.prod(aqtb), np.prod(bqta)\n",
    "\n",
    "# Helper to calculate weak dominance\n",
    "def weak_dominance(aqtb, bqta):\n",
    "    return 1 - bqta - aqtb \n",
    "\n",
    "# Calculates probabilistic ranking for individuals\n",
    "def probabilistic_ranking(x, xs, sigma):\n",
    "    pds = []\n",
    "    wds = []\n",
    "    for z in xs:\n",
    "        aqtb, bqta = probability_of_dominance(x, z, sigma)\n",
    "        pds.append(aqtb)\n",
    "        wds.append(weak_dominance(aqtb, bqta))\n",
    "    return np.sum(pds) + 0.5*np.sum(wds) - 0.5\n",
    "\n",
    "# Test data taken from the research paper to verify correct results\n",
    "ns = [\n",
    "  [2, 8],\n",
    "  [3, 5],\n",
    "  [5, 3],\n",
    "  [10, 2],\n",
    "  [10.5, 5],\n",
    "  [11, 8.5]\n",
    "]\n",
    "\n",
    "for n in ns:\n",
    "    print(probabilistic_ranking(n, ns, 0.1), probabilistic_ranking(n, ns, 1))"
   ]
  },
  {
   "cell_type": "code",
   "execution_count": 8,
   "id": "35c700c4",
   "metadata": {},
   "outputs": [],
   "source": [
    "from desdeo_problem.testproblems import test_problem_builder\n",
    "from scipy.stats import qmc\n",
    "from sklearn.gaussian_process import GaussianProcessRegressor\n",
    "\n",
    "# Method for generating samples using LHS-sampling\n",
    "def lhs(count, d):\n",
    "    sampler = qmc.LatinHypercube(d=d)\n",
    "    return sampler.random(n=count)\n",
    "\n",
    "# Test problem (DTLZ2 with 3 objectives and 5 decision variables)\n",
    "obj = test_problem_builder(\"DTLZ2\", 5, 3)\n",
    "\n",
    "# 50 random samples for creating training data\n",
    "training_data = lhs(50, 5)\n",
    "target_values = obj.evaluate(training_data).objectives\n",
    "objective_1_values = target_values[:,0]\n",
    "objective_2_values = target_values[:,1]\n",
    "objective_3_values = target_values[:,2]\n",
    "\n",
    "# Kriging surrogates\n",
    "gprO1 = GaussianProcessRegressor()\n",
    "gprO2 = GaussianProcessRegressor()\n",
    "gprO3 = GaussianProcessRegressor()\n",
    "gprO1.fit(training_data, objective_1_values)\n",
    "gprO2.fit(training_data, objective_2_values)\n",
    "gprO3.fit(training_data, objective_3_values)\n",
    "\n",
    "# Test data and results from surrogates\n",
    "test_data = lhs(20, 5)\n",
    "gpO1Values = gprO1.predict(test_data)\n",
    "gpO2Values = gprO2.predict(test_data)\n",
    "gpO3Values = gprO3.predict(test_data)\n",
    "\n",
    "solutions = np.column_stack((gpO1Values, gpO2Values, gpO3Values))"
   ]
  },
  {
   "cell_type": "code",
   "execution_count": 11,
   "id": "b03b3315",
   "metadata": {},
   "outputs": [
    {
     "name": "stdout",
     "output_type": "stream",
     "text": [
      "f1=0.038082020966360375, f2=0.11687535321636844, f3=1.110699633928407, ranking=8.403859722088646\n",
      "f1=0.11967176796299839, f2=0.05824926887494897, f3=1.4107411905811977, ranking=9.621400686535743\n",
      "f1=0.46865688994577326, f2=1.1776632255054302, f3=0.5056845387661371, ranking=9.697674322817237\n",
      "f1=0.3759697093636376, f2=0.34406914921185283, f3=1.0187022993395374, ranking=9.541091572793949\n",
      "f1=0.48730584806711974, f2=1.1743213068507803, f3=0.6985847253024859, ranking=10.00350272411082\n",
      "f1=0.1894746350277252, f2=0.3168890613442148, f3=1.191922909389051, ranking=9.961297686073475\n",
      "f1=0.29098396500106816, f2=0.15796543380307781, f3=1.0576916302859942, ranking=9.117250687106791\n",
      "f1=0.24104308352686132, f2=0.7208433437117368, f3=0.8788251168412522, ranking=9.35588096290716\n",
      "f1=1.1152112417580682, f2=0.08101936995241665, f3=0.46375838249493917, ranking=9.335029026453244\n",
      "f1=0.4375790367965351, f2=0.6347074881695178, f3=0.9954327966069716, ranking=10.093383841024211\n",
      "f1=0.8092340722313303, f2=0.5882072255295849, f3=0.7783364445367829, ranking=9.641290506574249\n",
      "f1=1.0460254710119692, f2=0.27679297499047806, f3=0.6619738920181364, ranking=9.62616350485348\n",
      "f1=0.06966198466540163, f2=0.5435107607525147, f3=1.0605321356795976, ranking=9.431968215541314\n",
      "f1=0.10681980213286124, f2=0.2011012324158905, f3=1.1869732209426722, ranking=9.36154787762691\n",
      "f1=0.7238192074256702, f2=0.06372048608077918, f3=1.0205421673639208, ranking=9.537932581361574\n",
      "f1=0.8050285378127633, f2=0.9221199587320363, f3=0.2282216253279259, ranking=9.510955218718474\n",
      "f1=0.7301608935531512, f2=0.6701879868736622, f3=0.8792222393312645, ranking=9.991878812092384\n",
      "f1=0.08976870216078936, f2=1.1425443527030428, f3=0.07230370252207408, ranking=8.87153104830731\n",
      "f1=0.9305923193421854, f2=0.5092514501137533, f3=0.37920151556688886, ranking=9.359830778652158\n",
      "f1=1.2774144528018745, f2=0.524976067767124, f3=0.1957265232620511, ranking=9.536530224360867\n"
     ]
    }
   ],
   "source": [
    "# Objective values and their rankings\n",
    "for s in solutions:\n",
    "    print(f\"f1={s[0]}, f2={s[1]}, f3={s[2]}, ranking={probabilistic_ranking(s, solutions, 0.1)}\")"
   ]
  },
  {
   "cell_type": "code",
   "execution_count": null,
   "id": "e4d913c6",
   "metadata": {},
   "outputs": [],
   "source": []
  }
 ],
 "metadata": {
  "kernelspec": {
   "display_name": "Python 3 (ipykernel)",
   "language": "python",
   "name": "python3"
  },
  "language_info": {
   "codemirror_mode": {
    "name": "ipython",
    "version": 3
   },
   "file_extension": ".py",
   "mimetype": "text/x-python",
   "name": "python",
   "nbconvert_exporter": "python",
   "pygments_lexer": "ipython3",
   "version": "3.8.5"
  }
 },
 "nbformat": 4,
 "nbformat_minor": 5
}
